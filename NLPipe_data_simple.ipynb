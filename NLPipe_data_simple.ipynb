{
 "cells": [
  {
   "cell_type": "markdown",
   "id": "061a0343-63ab-4aa5-a96c-67526528ce7c",
   "metadata": {},
   "source": [
    "# NLPipe - Data Walkthrough (simple)\n",
    "<p>#TODO: Needs description of what this file is</p>"
   ]
  },
  {
   "cell_type": "markdown",
   "id": "c90b14bf-06b8-47eb-ab24-778202720bef",
   "metadata": {
    "id": "1QZKvJBJ7rlc",
    "tags": []
   },
   "source": [
    "# Initialize environment"
   ]
  },
  {
   "cell_type": "code",
   "execution_count": 1,
   "id": "9fb462b6-b6f1-4954-9c3e-d36e3562353e",
   "metadata": {
    "colab": {
     "base_uri": "https://localhost:8080/"
    },
    "executionInfo": {
     "elapsed": 19195,
     "status": "ok",
     "timestamp": 1639849489183,
     "user": {
      "displayName": "Michael Vasiliou",
      "photoUrl": "https://lh3.googleusercontent.com/a/default-user=s64",
      "userId": "07079983815732559270"
     },
     "user_tz": 300
    },
    "id": "jgMPxKZBzfFw",
    "outputId": "ae39cdc2-271b-4bdf-a71b-40f4a11dc389"
   },
   "outputs": [],
   "source": [
    "import sys\n",
    "import os\n",
    "\n",
    "PROJECT_DIR = f'{os.getcwd()}'\n",
    "DEMO_DATA_DIR = f'{os.getcwd()}/data'\n",
    "DEMO_DATA_FILE = f'{DEMO_DATA_DIR}/IMDB Dataset.csv.gz'\n",
    "UTILITIES_DIR = f'{PROJECT_DIR}/utilities'\n",
    "\n",
    "# Add the UTILITY_DIR to the path to import files\n",
    "sys.path.append(UTILITIES_DIR)"
   ]
  },
  {
   "cell_type": "code",
   "execution_count": 2,
   "id": "7acebed1-da05-4a5f-953b-f7a0d2f08197",
   "metadata": {},
   "outputs": [],
   "source": [
    "import pandas as pd"
   ]
  },
  {
   "cell_type": "markdown",
   "id": "62ec13b5-70aa-4dd9-89fa-811c7d985992",
   "metadata": {},
   "source": [
    "# Load Data\n",
    "<p>Loading the IMDB Dataset<br>\n",
    "50,000 records on pos/neg sentiment analysis<br>\n",
    "25,000 records per class<br>"
   ]
  },
  {
   "cell_type": "code",
   "execution_count": 3,
   "id": "5a1f11cc-d448-4950-88fd-b082f52d494d",
   "metadata": {},
   "outputs": [
    {
     "name": "stdout",
     "output_type": "stream",
     "text": [
      "Data shape: (50000, 2)\n"
     ]
    },
    {
     "data": {
      "text/html": [
       "<div>\n",
       "<style scoped>\n",
       "    .dataframe tbody tr th:only-of-type {\n",
       "        vertical-align: middle;\n",
       "    }\n",
       "\n",
       "    .dataframe tbody tr th {\n",
       "        vertical-align: top;\n",
       "    }\n",
       "\n",
       "    .dataframe thead th {\n",
       "        text-align: right;\n",
       "    }\n",
       "</style>\n",
       "<table border=\"1\" class=\"dataframe\">\n",
       "  <thead>\n",
       "    <tr style=\"text-align: right;\">\n",
       "      <th></th>\n",
       "      <th>review</th>\n",
       "      <th>sentiment</th>\n",
       "    </tr>\n",
       "  </thead>\n",
       "  <tbody>\n",
       "    <tr>\n",
       "      <th>0</th>\n",
       "      <td>One of the other reviewers has mentioned that ...</td>\n",
       "      <td>positive</td>\n",
       "    </tr>\n",
       "    <tr>\n",
       "      <th>1</th>\n",
       "      <td>A wonderful little production. &lt;br /&gt;&lt;br /&gt;The...</td>\n",
       "      <td>positive</td>\n",
       "    </tr>\n",
       "    <tr>\n",
       "      <th>2</th>\n",
       "      <td>I thought this was a wonderful way to spend ti...</td>\n",
       "      <td>positive</td>\n",
       "    </tr>\n",
       "    <tr>\n",
       "      <th>3</th>\n",
       "      <td>Basically there's a family where a little boy ...</td>\n",
       "      <td>negative</td>\n",
       "    </tr>\n",
       "    <tr>\n",
       "      <th>4</th>\n",
       "      <td>Petter Mattei's \"Love in the Time of Money\" is...</td>\n",
       "      <td>positive</td>\n",
       "    </tr>\n",
       "  </tbody>\n",
       "</table>\n",
       "</div>"
      ],
      "text/plain": [
       "                                              review sentiment\n",
       "0  One of the other reviewers has mentioned that ...  positive\n",
       "1  A wonderful little production. <br /><br />The...  positive\n",
       "2  I thought this was a wonderful way to spend ti...  positive\n",
       "3  Basically there's a family where a little boy ...  negative\n",
       "4  Petter Mattei's \"Love in the Time of Money\" is...  positive"
      ]
     },
     "metadata": {},
     "output_type": "display_data"
    }
   ],
   "source": [
    "# Loading the IMDB Dataset\n",
    "ORIG_DF = pd.read_csv(DEMO_DATA_FILE, compression='gzip')\n",
    "print(f'Data shape: {ORIG_DF.shape}')\n",
    "display(ORIG_DF.head())"
   ]
  },
  {
   "cell_type": "code",
   "execution_count": 4,
   "id": "0e10abcd-6581-40c1-88c9-9447db7e55e9",
   "metadata": {},
   "outputs": [],
   "source": [
    "# Setting up variables for later usage in DataPackage\n",
    "DATA_COLUMN = 'review'\n",
    "TARGET_COLUMN = 'sentiment'\n",
    "UNIQUE_COLUMN = None   # Unique index column. If None, one will be created"
   ]
  },
  {
   "cell_type": "markdown",
   "id": "cd551729-619c-4a5a-a79d-c9d0829b4d72",
   "metadata": {},
   "source": [
    "# DataPackageParams\n",
    "<p>#TODO: Needs description of what DataPackageParams is</p>"
   ]
  },
  {
   "cell_type": "code",
   "execution_count": 5,
   "id": "530013a0-b12d-4aa8-9ae2-40f727a9dbf0",
   "metadata": {},
   "outputs": [],
   "source": [
    "# DataPackageParams are optional. Can do it manually or store and save the params for re-run\n",
    "from DataPackage import DataPackageParams\n",
    "myDPP = DataPackageParams(\n",
    "                    process_params=True, # True=run all data cleanup/setup on load\n",
    "                    \n",
    "                    # Class Balance\n",
    "                    sample_size = None, # Can be set to an absolute value. None means undersample to smallest\n",
    "                                        \n",
    "                    # Text Cleaning Params\n",
    "                    fix_unicode=True,  # fix various unicode errors\n",
    "                    to_ascii=True,  # transliterate to closest ASCII representation\n",
    "                    lower=True,  # lowercase text\n",
    "                    no_line_breaks=False,  # fully strip line breaks as opposed to only normalizing them\n",
    "                    no_urls=False,  # replace all URLs with a special token\n",
    "                    no_emails=False,  # replace all email addresses with a special token\n",
    "                    no_phone_numbers=False,  # replace all phone numbers with a special token\n",
    "                    no_numbers=False,  # replace all numbers with a special token\n",
    "                    no_digits=False,  # replace all digits with a special token\n",
    "                    no_currency_symbols=False,  # replace all currency symbols with a special token\n",
    "                    no_punct=False,  # remove punctuations\n",
    "                    replace_with_punct=\"\",  # instead of removing punctuations you may replace them\n",
    "                    replace_with_url=\"<URL>\",\n",
    "                    replace_with_email=\"<EMAIL>\",\n",
    "                    replace_with_phone_number=\"<PHONE>\",\n",
    "                    replace_with_number=\"<NUMBER>\",\n",
    "                    replace_with_digit=\"0\",\n",
    "                    replace_with_currency_symbol=\"<CUR>\",\n",
    "                    lang=\"en\",  # set to 'de' for German special handling\n",
    "\n",
    "                    # Remove stopwords\n",
    "                    remove_stopwords=True, # Removes stopwords\n",
    "                    stopword_language='english',\n",
    "        \n",
    "                    # train test split params\n",
    "                    stratifyColumn=None, # If None will be autoset to target_column in DataPackage\n",
    "                    train_size=0.8, # Can be percent or absolute number\n",
    "                    random_state=765,\n",
    "                    shuffle=True,\n",
    "\n",
    "                    # Encoding params\n",
    "                    encoding_type='TFIDF', # Currently only supports TFIDF encoding, TBA: BERT, GLOVE, Word2Vec\n",
    "                    max_features=100 # Currently only used in TFIDF\n",
    "                    )"
   ]
  },
  {
   "cell_type": "markdown",
   "id": "79e21213-9169-416f-82bf-587d32947e60",
   "metadata": {},
   "source": [
    "# Data Package\n",
    "<p>#TODO: Needs description of what this file is</p>"
   ]
  },
  {
   "cell_type": "code",
   "execution_count": 6,
   "id": "061d00f5-0fee-4c66-a208-b9ce44340103",
   "metadata": {},
   "outputs": [
    {
     "name": "stdout",
     "output_type": "stream",
     "text": [
      "Params loaded. Process set to True.\n",
      "Processing Data Package\n",
      "DataPackage summary\n",
      "Attributes:\n",
      "---> uniqueColumn: uuid\n",
      "---> dataColumn: review\n",
      "---> targetColumn: sentiment\n",
      "Original Data:\n",
      "---> original data shape: (50000, 3)\n",
      "Working Data:\n",
      "---> working data shape: (50000, 3)\n",
      "Process:\n",
      "---> isProcessed: False\n",
      "---> isCleaned: False\n",
      "---> isStopWorded: False\n",
      "---> isBalanced: False\n",
      "---> isEncoded: False\n",
      "---> isTrainTestSplit: False\n",
      "Data:\n",
      "---> isOrigDataLoaded: True\n",
      "---> isTrainDataLoaded: False\n",
      "---> isTestDataLoaded: False\n",
      "\n",
      "Processing data package with provided parameters\n"
     ]
    },
    {
     "data": {
      "image/png": "[encoded data removed]",
      "text/plain": [
       "<Figure size 576x396 with 1 Axes>"
      ]
     },
     "metadata": {},
     "output_type": "display_data"
    },
    {
     "name": "stdout",
     "output_type": "stream",
     "text": [
      "Undersampling data to match min class: negative of size: 25000\n"
     ]
    },
    {
     "data": {
      "image/png": "[encoded data removed]",
      "text/plain": [
       "<Figure size 576x396 with 1 Axes>"
      ]
     },
     "metadata": {},
     "output_type": "display_data"
    },
    {
     "data": {
      "text/html": [
       "<div>\n",
       "<style scoped>\n",
       "    .dataframe tbody tr th:only-of-type {\n",
       "        vertical-align: middle;\n",
       "    }\n",
       "\n",
       "    .dataframe tbody tr th {\n",
       "        vertical-align: top;\n",
       "    }\n",
       "\n",
       "    .dataframe thead th {\n",
       "        text-align: right;\n",
       "    }\n",
       "</style>\n",
       "<table border=\"1\" class=\"dataframe\">\n",
       "  <thead>\n",
       "    <tr style=\"text-align: right;\">\n",
       "      <th></th>\n",
       "      <th>sentiment</th>\n",
       "      <th>ttlCol</th>\n",
       "    </tr>\n",
       "  </thead>\n",
       "  <tbody>\n",
       "    <tr>\n",
       "      <th>0</th>\n",
       "      <td>negative</td>\n",
       "      <td>25000</td>\n",
       "    </tr>\n",
       "    <tr>\n",
       "      <th>1</th>\n",
       "      <td>positive</td>\n",
       "      <td>25000</td>\n",
       "    </tr>\n",
       "  </tbody>\n",
       "</table>\n",
       "</div>"
      ],
      "text/plain": [
       "  sentiment  ttlCol\n",
       "0  negative   25000\n",
       "1  positive   25000"
      ]
     },
     "metadata": {},
     "output_type": "display_data"
    },
    {
     "name": "stdout",
     "output_type": "stream",
     "text": [
      "Cleaning text column...\n"
     ]
    },
    {
     "name": "stderr",
     "output_type": "stream",
     "text": [
      "100%|███████████████████████████████████| 50000/50000 [00:18<00:00, 2763.02it/s]\n",
      "[nltk_data] Downloading package stopwords to /home/magni/nltk_data...\n",
      "[nltk_data]   Package stopwords is already up-to-date!\n"
     ]
    },
    {
     "name": "stdout",
     "output_type": "stream",
     "text": [
      "Removing stopwords...\n"
     ]
    },
    {
     "name": "stderr",
     "output_type": "stream",
     "text": [
      "100%|███████████████████████████████████| 50000/50000 [00:09<00:00, 5320.61it/s]\n"
     ]
    },
    {
     "name": "stdout",
     "output_type": "stream",
     "text": [
      "\n",
      "Encoding to TF-IDF with max_features=100\n",
      "Encoding completed. Feature list:\n",
      "['10', 'acting', 'actors', 'actually', 'all', 'also', 'and', 'another', 'around', 'back', 'bad', 'best', 'better', 'big', 'br', 'can', 'cast', 'character', 'characters', 'could', 'director', 'end', 'even', 'ever', 'every', 'film', 'films', 'find', 'first', 'funny', 'get', 'go', 'going', 'good', 'great', 'he', 'horror', 'however', 'in', 'it', 'know', 'life', 'like', 'little', 'look', 'lot', 'love', 'made', 'make', 'makes', 'man', 'many', 'movie', 'movies', 'much', 'never', 'new', 'nothing', 'old', 'one', 'part', 'people', 'plot', 'pretty', 'quite', 'real', 'really', 'say', 'scene', 'scenes', 'see', 'seems', 'seen', 'show', 'something', 'still', 'story', 'take', 'that', 'the', 'there', 'thing', 'things', 'think', 'this', 'though', 'time', 'two', 'us', 've', 'want', 'watch', 'watching', 'way', 'well', 'work', 'world', 'would', 'years', 'young']\n",
      "\n",
      "Completed train/test split (train_size = 0.8):\n",
      "---> Original data size: 50000\n",
      "---> Training data size: 40000\n",
      "---> Testing data size: 10000\n",
      "---> Stratified on column: sentiment\n",
      "\n",
      "Processing data package has been completed\n",
      "\n",
      "DataPackage summary\n",
      "Attributes:\n",
      "---> uniqueColumn: uuid\n",
      "---> dataColumn: review\n",
      "---> targetColumn: sentiment\n",
      "Original Data:\n",
      "---> original data shape: (50000, 3)\n",
      "Working Data:\n",
      "---> working data shape: (50000, 102)\n",
      "Process:\n",
      "---> isProcessed: True\n",
      "---> isCleaned: True\n",
      "---> isStopWorded: True\n",
      "---> isBalanced: True\n",
      "---> isEncoded: True\n",
      "---> isTrainTestSplit: True\n",
      "Data:\n",
      "---> isOrigDataLoaded: True\n",
      "---> isTrainDataLoaded: True\n",
      "---> isTestDataLoaded: True\n",
      "\n"
     ]
    }
   ],
   "source": [
    "# Create the DataPackage\n",
    "from DataPackage import DataPackage\n",
    "myDP = DataPackage(original_data = ORIG_DF,\n",
    "                   data_column = DATA_COLUMN,\n",
    "                   target_column = TARGET_COLUMN,\n",
    "                   unique_column = UNIQUE_COLUMN,\n",
    "                   data_package_params = myDPP)"
   ]
  },
  {
   "cell_type": "markdown",
   "id": "5ab7bf78-1102-4e7d-8abe-80032404544a",
   "metadata": {
    "tags": []
   },
   "source": [
    "# Persistence - DataProcessingParams and DataPackage\n",
    "<p>#TODO: Needs description of what persistence is for</p>"
   ]
  },
  {
   "cell_type": "code",
   "execution_count": 7,
   "id": "eb07d7b2-9147-4717-aac6-37a1e7679e8a",
   "metadata": {},
   "outputs": [
    {
     "name": "stdout",
     "output_type": "stream",
     "text": [
      "Saving file as /home/magni/ML_Root/project_root/magritte/testDataProcParams.pkl.gz\n"
     ]
    }
   ],
   "source": [
    "# Save DataPackageParams for later use\n",
    "\n",
    "filename_params = f'{PROJECT_DIR}/testDataProcParams.pkl.gz'\n",
    "myDPP.save(filename_params)"
   ]
  },
  {
   "cell_type": "code",
   "execution_count": 8,
   "id": "b930a126-0d48-4c5f-bca2-235af5f2c7a4",
   "metadata": {},
   "outputs": [
    {
     "name": "stdout",
     "output_type": "stream",
     "text": [
      "True\n"
     ]
    }
   ],
   "source": [
    "# Recover saved DataPackageParams\n",
    "\n",
    "recoveredDPP = DataPackageParams.load(filename_params)\n",
    "print(recoveredDPP.process_params)"
   ]
  },
  {
   "cell_type": "code",
   "execution_count": null,
   "id": "c0226298-ceea-43e1-9c0b-a25d28e28564",
   "metadata": {},
   "outputs": [],
   "source": []
  },
  {
   "cell_type": "code",
   "execution_count": 9,
   "id": "9fa1c0d1-7a8c-40ba-af75-0935b906d2ee",
   "metadata": {},
   "outputs": [
    {
     "name": "stdout",
     "output_type": "stream",
     "text": [
      "Saving file as /home/magni/ML_Root/project_root/magritte/testDataPackage.pkl.gz\n"
     ]
    }
   ],
   "source": [
    "# Save DataPackage for later use\n",
    "\n",
    "filename_datapackage = f'{PROJECT_DIR}/testDataPackage.pkl.gz'\n",
    "myDP.save(filename_datapackage)"
   ]
  },
  {
   "cell_type": "code",
   "execution_count": 10,
   "id": "40c9dffe-eb0d-4a44-8ce8-0f3016f6dd15",
   "metadata": {},
   "outputs": [
    {
     "name": "stdout",
     "output_type": "stream",
     "text": [
      "DataPackage summary\n",
      "Attributes:\n",
      "---> uniqueColumn: uuid\n",
      "---> dataColumn: review\n",
      "---> targetColumn: sentiment\n",
      "Original Data:\n",
      "---> original data shape: (50000, 3)\n",
      "Working Data:\n",
      "---> working data shape: (50000, 102)\n",
      "Process:\n",
      "---> isProcessed: True\n",
      "---> isCleaned: True\n",
      "---> isStopWorded: True\n",
      "---> isBalanced: True\n",
      "---> isEncoded: True\n",
      "---> isTrainTestSplit: True\n",
      "Data:\n",
      "---> isOrigDataLoaded: True\n",
      "---> isTrainDataLoaded: True\n",
      "---> isTestDataLoaded: True\n",
      "\n"
     ]
    }
   ],
   "source": [
    "# Recover saved DataPackage\n",
    "recoveredDP =  DataPackage.load(filename_datapackage)\n",
    "recoveredDP.display()"
   ]
  },
  {
   "cell_type": "code",
   "execution_count": null,
   "id": "8858885c-57ce-48f6-b362-5263e9d37fb2",
   "metadata": {},
   "outputs": [],
   "source": []
  },
  {
   "cell_type": "markdown",
   "id": "4323b8b3-e747-4547-a589-bd0ef874584f",
   "metadata": {},
   "source": [
    "# Scratchpad"
   ]
  },
  {
   "cell_type": "code",
   "execution_count": null,
   "id": "875c8728-2289-4a7e-9e31-36da81225d49",
   "metadata": {},
   "outputs": [],
   "source": []
  },
  {
   "cell_type": "code",
   "execution_count": null,
   "id": "cf0ec0ea-a055-4779-b038-e2aa137bcb2a",
   "metadata": {},
   "outputs": [],
   "source": []
  },
  {
   "cell_type": "code",
   "execution_count": null,
   "id": "4707b335-1270-4767-94f0-ab71e10c3095",
   "metadata": {},
   "outputs": [],
   "source": []
  },
  {
   "cell_type": "code",
   "execution_count": null,
   "id": "84bf2754-0047-46cd-98fc-cb5c336d44ba",
   "metadata": {},
   "outputs": [],
   "source": []
  },
  {
   "cell_type": "code",
   "execution_count": null,
   "id": "c62179f9-66d0-487f-b530-89db384efdaa",
   "metadata": {},
   "outputs": [],
   "source": []
  },
  {
   "cell_type": "code",
   "execution_count": 11,
   "id": "0804575b-6bd3-475f-9f71-ab95a90d1855",
   "metadata": {},
   "outputs": [],
   "source": []
  },
  {
   "cell_type": "code",
   "execution_count": null,
   "id": "762df8d3-9438-406e-8070-ba02b6994514",
   "metadata": {},
   "outputs": [],
   "source": []
  }
 ],
 "metadata": {
  "kernelspec": {
   "display_name": "ML1010_env2",
   "language": "python",
   "name": "ml1010_env2"
  },
  "language_info": {
   "codemirror_mode": {
    "name": "ipython",
    "version": 3
   },
   "file_extension": ".py",
   "mimetype": "text/x-python",
   "name": "python",
   "nbconvert_exporter": "python",
   "pygments_lexer": "ipython3",
   "version": "3.7.13"
  }
 },
 "nbformat": 4,
 "nbformat_minor": 5
}
