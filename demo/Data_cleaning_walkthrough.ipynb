{
 "cells": [
  {
   "cell_type": "markdown",
   "id": "061a0343-63ab-4aa5-a96c-67526528ce7c",
   "metadata": {},
   "source": [
    "# NLPipe - Data Walkthrough (simple)\n",
    "<p>#TODO: Needs description of what this file is</p>"
   ]
  },
  {
   "cell_type": "markdown",
   "id": "c90b14bf-06b8-47eb-ab24-778202720bef",
   "metadata": {
    "id": "1QZKvJBJ7rlc",
    "tags": []
   },
   "source": [
    "# Initialize environment"
   ]
  },
  {
   "cell_type": "code",
   "execution_count": 1,
   "id": "9fb462b6-b6f1-4954-9c3e-d36e3562353e",
   "metadata": {
    "colab": {
     "base_uri": "https://localhost:8080/"
    },
    "executionInfo": {
     "elapsed": 19195,
     "status": "ok",
     "timestamp": 1639849489183,
     "user": {
      "displayName": "Michael Vasiliou",
      "photoUrl": "https://lh3.googleusercontent.com/a/default-user=s64",
      "userId": "07079983815732559270"
     },
     "user_tz": 300
    },
    "id": "jgMPxKZBzfFw",
    "outputId": "ae39cdc2-271b-4bdf-a71b-40f4a11dc389"
   },
   "outputs": [],
   "source": [
    "import sys\n",
    "import os\n",
    "\n",
    "PROJECT_DIR = f'{os.getcwd()}'\n",
    "DEMO_DATA_DIR = f'{PROJECT_DIR}/../data'\n",
    "UTILITIES_DIR = f'{PROJECT_DIR}/../utilities'\n",
    "\n",
    "# Add the UTILITY_DIR to the path to import files\n",
    "sys.path.append(UTILITIES_DIR)"
   ]
  },
  {
   "cell_type": "code",
   "execution_count": 2,
   "id": "7acebed1-da05-4a5f-953b-f7a0d2f08197",
   "metadata": {},
   "outputs": [],
   "source": [
    "import pandas as pd"
   ]
  },
  {
   "cell_type": "markdown",
   "id": "62ec13b5-70aa-4dd9-89fa-811c7d985992",
   "metadata": {},
   "source": [
    "# Load Data\n",
    "<p>Loading the IMDB Dataset<br>\n",
    "50,000 records on pos/neg sentiment analysis<br>\n",
    "25,000 records per class<br>"
   ]
  },
  {
   "cell_type": "code",
   "execution_count": 3,
   "id": "5a1f11cc-d448-4950-88fd-b082f52d494d",
   "metadata": {},
   "outputs": [
    {
     "name": "stdout",
     "output_type": "stream",
     "text": [
      "   id                                              Notes\n",
      "0   1                Email me at myemail@programming.com\n",
      "1   2         I have $50 in savings at http://mybank.com\n",
      "2   3                                Digit test 5678 876\n",
      "3   4  There's a TON! of special, characters *** in this\n",
      "4   5                    My first sent \\n my second sent\n",
      "5   6  Phone number available at 555-123-4567 or 555....\n",
      "6   7      I can't believe my feet are sore from walking\n",
      "7   8                   Custom stopword test for pancake\n"
     ]
    }
   ],
   "source": [
    "custom_stopwords = ['pancake']\n",
    "test_list = [[1,  'Email me at myemail@programming.com'],\n",
    "             [2,  'I have $50 in savings at http://mybank.com'],\n",
    "             [3,  'Digit test 5678 876'],\n",
    "             [4,  'There\\'s a TON! of special, characters *** in this'],\n",
    "             [5,  'My first sent \\n my second sent'],\n",
    "             [6,  'Phone number available at 555-123-4567 or 555.123.4567'],\n",
    "             [7,  'I can\\'t believe my feet are sore from walking'],\n",
    "             [8,  'Custom stopword test for pancake']\n",
    "            ]\n",
    "\n",
    "testDf = pd.DataFrame(test_list, columns = ['id', 'Notes'])\n",
    "print(testDf.head(10))"
   ]
  },
  {
   "cell_type": "code",
   "execution_count": 4,
   "id": "0e10abcd-6581-40c1-88c9-9447db7e55e9",
   "metadata": {},
   "outputs": [],
   "source": [
    "# Setting up variables for later usage in DataPackage\n",
    "DATA_COLUMN = 'Notes'\n",
    "TARGET_COLUMN = 'id'\n",
    "UNIQUE_COLUMN = None   # Unique index column. If None, one will be created"
   ]
  },
  {
   "cell_type": "markdown",
   "id": "cd551729-619c-4a5a-a79d-c9d0829b4d72",
   "metadata": {},
   "source": [
    "# DataPackageParams\n",
    "<p>#TODO: Needs description of what DataPackageParams is</p>"
   ]
  },
  {
   "cell_type": "code",
   "execution_count": 5,
   "id": "530013a0-b12d-4aa8-9ae2-40f727a9dbf0",
   "metadata": {},
   "outputs": [],
   "source": [
    "# DataPackageParams are optional. Can do it manually or store and save the params for re-run\n",
    "from DataPackage import DataPackageParams\n",
    "myDPP = DataPackageParams(\n",
    "                    process_params=False, # True=run all data cleanup/setup on load\n",
    "                    \n",
    "                    # Convert to lowercase\n",
    "                    lower=True,  # lowercase text\n",
    "    \n",
    "                    # Contractions\n",
    "                    fix_contractions = True,\n",
    "\n",
    "    \n",
    "                    # Text Cleaning Params\n",
    "                    fix_unicode=True,  # fix various unicode errors\n",
    "                    to_ascii=True,  # transliterate to closest ASCII representation\n",
    "                    no_line_breaks=False,  # fully strip line breaks as opposed to only normalizing them\n",
    "                    no_urls=True,  # replace all URLs with a special token\n",
    "                    no_emails=True,  # replace all email addresses with a special token\n",
    "                    no_phone_numbers=True,  # replace all phone numbers with a special token\n",
    "                    no_numbers=True,  # replace all numbers with a special token\n",
    "                    no_digits=True,  # replace all digits with a special token\n",
    "                    no_currency_symbols=True,  # replace all currency symbols with a special token\n",
    "                    no_punct=True,  # remove punctuations\n",
    "                    replace_with_punct=\"\",  # instead of removing punctuations you may replace them\n",
    "                    replace_with_url=\"<URL>\",\n",
    "                    replace_with_email=\"<EMAIL>\",\n",
    "                    replace_with_phone_number=\"<PHONE>\",\n",
    "                    replace_with_number=\"<NUMBER>\",\n",
    "                    replace_with_digit=\"0\",\n",
    "                    replace_with_currency_symbol=\"<CUR>\",\n",
    "                    lang=\"en\",  # set to 'de' for German special handling\n",
    "\n",
    "                    # Lemmatize\n",
    "                    lemmatize = True,\n",
    "    \n",
    "                    #Remove small tokens\n",
    "                    remove_small_tokens = True,\n",
    "                    min_token_size = 3,\n",
    "    \n",
    "                    # Remove stopwords\n",
    "                    remove_stopwords=True, # Removes stopwords\n",
    "                    stopword_language='english',\n",
    "                    custom_stopwords= ['pancake'],    # List of custom stopwords\n",
    "    \n",
    "                    # Class Balance\n",
    "                    sample_size = None, # Can be set to an absolute value. None means undersample to smallest\n",
    "\n",
    "                    # train test split params\n",
    "                    stratifyColumn=None, # If None will be autoset to target_column in DataPackage\n",
    "                    train_size=0.8, # Can be percent or absolute number\n",
    "                    random_state=765,\n",
    "                    shuffle=True,\n",
    "\n",
    "                    # Encoding params\n",
    "                    encoding_type='TFIDF', # Currently only supports TFIDF encoding, TBA: BERT, GLOVE, Word2Vec\n",
    "                    max_features=100 # Currently only used in TFIDF\n",
    "                    )"
   ]
  },
  {
   "cell_type": "markdown",
   "id": "79e21213-9169-416f-82bf-587d32947e60",
   "metadata": {},
   "source": [
    "# Data Package\n",
    "<p>#TODO: Needs description of what this file is</p>"
   ]
  },
  {
   "cell_type": "code",
   "execution_count": 6,
   "id": "2f768fca-0afb-4fe6-a572-1b89d2fb68af",
   "metadata": {},
   "outputs": [],
   "source": [
    "#mport importlib\n",
    "#mport DataPackageSupport\n",
    "#mport DataPackage\n",
    "#mportlib.reload(DataPackageSupport)\n",
    "#mportlib.reload(DataPackage)"
   ]
  },
  {
   "cell_type": "code",
   "execution_count": 7,
   "id": "061d00f5-0fee-4c66-a208-b9ce44340103",
   "metadata": {},
   "outputs": [],
   "source": [
    "# Create the DataPackage\n",
    "from DataPackage import DataPackage\n",
    "myDP = DataPackage(original_data = testDf,\n",
    "                   data_column = DATA_COLUMN,\n",
    "                   target_column = TARGET_COLUMN,\n",
    "                   unique_column = UNIQUE_COLUMN,\n",
    "                   data_package_params = myDPP)"
   ]
  },
  {
   "cell_type": "code",
   "execution_count": 8,
   "id": "33de1c3d-93d5-49ad-8c5c-e7c968b2c516",
   "metadata": {},
   "outputs": [
    {
     "name": "stdout",
     "output_type": "stream",
     "text": [
      "Process 1 beginning cleaningProcess 2 beginning cleaningProcess 3 beginning cleaning\n",
      "\n",
      "Process 4 beginning cleaning\n",
      "\n",
      "Process 4 completedProcess 1 completed\n",
      "\n",
      "Process 2 completedProcess 3 completed\n",
      "\n",
      "CPU times: user 16.5 ms, sys: 31.3 ms, total: 47.7 ms\n",
      "Wall time: 1.15 s\n"
     ]
    }
   ],
   "source": [
    "%%time\n",
    "myDP.processText(num_cores=4)"
   ]
  },
  {
   "cell_type": "code",
   "execution_count": 9,
   "id": "cbd159c0-1678-4168-a2e9-c4dec289881b",
   "metadata": {},
   "outputs": [
    {
     "data": {
      "text/html": [
       "<div>\n",
       "<style scoped>\n",
       "    .dataframe tbody tr th:only-of-type {\n",
       "        vertical-align: middle;\n",
       "    }\n",
       "\n",
       "    .dataframe tbody tr th {\n",
       "        vertical-align: top;\n",
       "    }\n",
       "\n",
       "    .dataframe thead th {\n",
       "        text-align: right;\n",
       "    }\n",
       "</style>\n",
       "<table border=\"1\" class=\"dataframe\">\n",
       "  <thead>\n",
       "    <tr style=\"text-align: right;\">\n",
       "      <th></th>\n",
       "      <th>Notes_x</th>\n",
       "      <th>Notes_y</th>\n",
       "    </tr>\n",
       "  </thead>\n",
       "  <tbody>\n",
       "    <tr>\n",
       "      <th>0</th>\n",
       "      <td>Email me at myemail@programming.com</td>\n",
       "      <td>email &lt;EMAIL&gt;</td>\n",
       "    </tr>\n",
       "    <tr>\n",
       "      <th>1</th>\n",
       "      <td>I have $50 in savings at http://mybank.com</td>\n",
       "      <td>&lt;CUR&gt;&lt;NUMBER&gt; saving &lt;URL&gt;</td>\n",
       "    </tr>\n",
       "    <tr>\n",
       "      <th>2</th>\n",
       "      <td>Digit test 5678 876</td>\n",
       "      <td>digit test &lt;NUMBER&gt; &lt;NUMBER&gt;</td>\n",
       "    </tr>\n",
       "    <tr>\n",
       "      <th>3</th>\n",
       "      <td>There's a TON! of special, characters *** in this</td>\n",
       "      <td>special character</td>\n",
       "    </tr>\n",
       "    <tr>\n",
       "      <th>4</th>\n",
       "      <td>My first sent \\n my second sent</td>\n",
       "      <td>first sent second sent</td>\n",
       "    </tr>\n",
       "    <tr>\n",
       "      <th>5</th>\n",
       "      <td>Phone number available at 555-123-4567 or 555....</td>\n",
       "      <td>phone number available &lt;PHONE&gt; &lt;PHONE&gt;</td>\n",
       "    </tr>\n",
       "    <tr>\n",
       "      <th>6</th>\n",
       "      <td>I can't believe my feet are sore from walking</td>\n",
       "      <td>cannot believe foot sore walking</td>\n",
       "    </tr>\n",
       "    <tr>\n",
       "      <th>7</th>\n",
       "      <td>Custom stopword test for pancake</td>\n",
       "      <td>custom stopword test</td>\n",
       "    </tr>\n",
       "  </tbody>\n",
       "</table>\n",
       "</div>"
      ],
      "text/plain": [
       "                                             Notes_x  \\\n",
       "0                Email me at myemail@programming.com   \n",
       "1         I have $50 in savings at http://mybank.com   \n",
       "2                                Digit test 5678 876   \n",
       "3  There's a TON! of special, characters *** in this   \n",
       "4                    My first sent \\n my second sent   \n",
       "5  Phone number available at 555-123-4567 or 555....   \n",
       "6      I can't believe my feet are sore from walking   \n",
       "7                   Custom stopword test for pancake   \n",
       "\n",
       "                                  Notes_y  \n",
       "0                           email <EMAIL>  \n",
       "1              <CUR><NUMBER> saving <URL>  \n",
       "2            digit test <NUMBER> <NUMBER>  \n",
       "3                       special character  \n",
       "4                  first sent second sent  \n",
       "5  phone number available <PHONE> <PHONE>  \n",
       "6        cannot believe foot sore walking  \n",
       "7                    custom stopword test  "
      ]
     },
     "metadata": {},
     "output_type": "display_data"
    }
   ],
   "source": [
    "compareDF = pd.merge(myDP.getOrigData(), myDP.getWorkingData(), on=myDP.uniqueColumn, how='inner')\n",
    "display(compareDF[[f'{DATA_COLUMN}_x', f'{DATA_COLUMN}_y']].head(10))"
   ]
  },
  {
   "cell_type": "code",
   "execution_count": null,
   "id": "893c3ad4-8702-46e3-b412-0e2d4e2f778e",
   "metadata": {},
   "outputs": [],
   "source": []
  },
  {
   "cell_type": "markdown",
   "id": "4323b8b3-e747-4547-a589-bd0ef874584f",
   "metadata": {},
   "source": [
    "# Scratchpad"
   ]
  },
  {
   "cell_type": "code",
   "execution_count": null,
   "id": "875c8728-2289-4a7e-9e31-36da81225d49",
   "metadata": {},
   "outputs": [],
   "source": []
  },
  {
   "cell_type": "code",
   "execution_count": null,
   "id": "cf0ec0ea-a055-4779-b038-e2aa137bcb2a",
   "metadata": {},
   "outputs": [],
   "source": []
  },
  {
   "cell_type": "code",
   "execution_count": null,
   "id": "4707b335-1270-4767-94f0-ab71e10c3095",
   "metadata": {},
   "outputs": [],
   "source": []
  },
  {
   "cell_type": "code",
   "execution_count": null,
   "id": "84bf2754-0047-46cd-98fc-cb5c336d44ba",
   "metadata": {},
   "outputs": [],
   "source": []
  },
  {
   "cell_type": "code",
   "execution_count": null,
   "id": "c62179f9-66d0-487f-b530-89db384efdaa",
   "metadata": {},
   "outputs": [],
   "source": []
  },
  {
   "cell_type": "code",
   "execution_count": null,
   "id": "0804575b-6bd3-475f-9f71-ab95a90d1855",
   "metadata": {},
   "outputs": [],
   "source": []
  },
  {
   "cell_type": "code",
   "execution_count": null,
   "id": "762df8d3-9438-406e-8070-ba02b6994514",
   "metadata": {},
   "outputs": [],
   "source": []
  }
 ],
 "metadata": {
  "kernelspec": {
   "display_name": "magritte",
   "language": "python",
   "name": "magritte"
  },
  "language_info": {
   "codemirror_mode": {
    "name": "ipython",
    "version": 3
   },
   "file_extension": ".py",
   "mimetype": "text/x-python",
   "name": "python",
   "nbconvert_exporter": "python",
   "pygments_lexer": "ipython3",
   "version": "3.7.13"
  }
 },
 "nbformat": 4,
 "nbformat_minor": 5
}
