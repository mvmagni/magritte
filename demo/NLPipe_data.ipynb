{
 "cells": [
  {
   "cell_type": "markdown",
   "id": "2f1b608f-d8bf-4300-87e9-49c57b58e350",
   "metadata": {},
   "source": [
    "# NLPipe - Data Walkthrough\n",
    "<p>#TODO: Needs description of what this file is</p>"
   ]
  },
  {
   "cell_type": "markdown",
   "id": "203c6d43-7e37-4e2d-83f2-07b6833e2dbd",
   "metadata": {
    "id": "1QZKvJBJ7rlc",
    "tags": []
   },
   "source": [
    "# Initialize environment"
   ]
  },
  {
   "cell_type": "code",
   "execution_count": 1,
   "id": "9179e5b1-4800-440a-b9ea-13b2ccc80027",
   "metadata": {
    "colab": {
     "base_uri": "https://localhost:8080/"
    },
    "executionInfo": {
     "elapsed": 19195,
     "status": "ok",
     "timestamp": 1639849489183,
     "user": {
      "displayName": "Michael Vasiliou",
      "photoUrl": "https://lh3.googleusercontent.com/a/default-user=s64",
      "userId": "07079983815732559270"
     },
     "user_tz": 300
    },
    "id": "jgMPxKZBzfFw",
    "outputId": "ae39cdc2-271b-4bdf-a71b-40f4a11dc389"
   },
   "outputs": [],
   "source": [
    "import sys\n",
    "import os\n",
    "\n",
    "PROJECT_DIR = f'{os.getcwd()}'\n",
    "DEMO_DATA_DIR = f'{PROJECT_DIR}/../data'\n",
    "DEMO_DATA_FILE = f'{DEMO_DATA_DIR}/IMDB Dataset.csv.gz'\n",
    "UTILITIES_DIR = f'{PROJECT_DIR}/../utilities'\n",
    "\n",
    "# Add the UTILITY_DIR to the path to import files\n",
    "sys.path.append(UTILITIES_DIR)"
   ]
  },
  {
   "cell_type": "code",
   "execution_count": 2,
   "id": "ff95f343-98bf-4002-803a-2982d62b744a",
   "metadata": {},
   "outputs": [],
   "source": [
    "import pandas as pd"
   ]
  },
  {
   "cell_type": "markdown",
   "id": "659671d7-1b23-47ee-bc53-66e5e308090e",
   "metadata": {},
   "source": [
    "# Load Data\n",
    "<p>Loading the IMDB Dataset<br>\n",
    "50,000 records on pos/neg sentiment analysis<br>\n",
    "25,000 records per class<br>"
   ]
  },
  {
   "cell_type": "code",
   "execution_count": 3,
   "id": "7e2d9c8e-93c8-4794-b634-86bab0e6147a",
   "metadata": {},
   "outputs": [
    {
     "name": "stdout",
     "output_type": "stream",
     "text": [
      "Data shape: (50000, 2)\n"
     ]
    },
    {
     "data": {
      "text/html": [
       "<div>\n",
       "<style scoped>\n",
       "    .dataframe tbody tr th:only-of-type {\n",
       "        vertical-align: middle;\n",
       "    }\n",
       "\n",
       "    .dataframe tbody tr th {\n",
       "        vertical-align: top;\n",
       "    }\n",
       "\n",
       "    .dataframe thead th {\n",
       "        text-align: right;\n",
       "    }\n",
       "</style>\n",
       "<table border=\"1\" class=\"dataframe\">\n",
       "  <thead>\n",
       "    <tr style=\"text-align: right;\">\n",
       "      <th></th>\n",
       "      <th>review</th>\n",
       "      <th>sentiment</th>\n",
       "    </tr>\n",
       "  </thead>\n",
       "  <tbody>\n",
       "    <tr>\n",
       "      <th>0</th>\n",
       "      <td>One of the other reviewers has mentioned that ...</td>\n",
       "      <td>positive</td>\n",
       "    </tr>\n",
       "    <tr>\n",
       "      <th>1</th>\n",
       "      <td>A wonderful little production. &lt;br /&gt;&lt;br /&gt;The...</td>\n",
       "      <td>positive</td>\n",
       "    </tr>\n",
       "    <tr>\n",
       "      <th>2</th>\n",
       "      <td>I thought this was a wonderful way to spend ti...</td>\n",
       "      <td>positive</td>\n",
       "    </tr>\n",
       "    <tr>\n",
       "      <th>3</th>\n",
       "      <td>Basically there's a family where a little boy ...</td>\n",
       "      <td>negative</td>\n",
       "    </tr>\n",
       "    <tr>\n",
       "      <th>4</th>\n",
       "      <td>Petter Mattei's \"Love in the Time of Money\" is...</td>\n",
       "      <td>positive</td>\n",
       "    </tr>\n",
       "  </tbody>\n",
       "</table>\n",
       "</div>"
      ],
      "text/plain": [
       "                                              review sentiment\n",
       "0  One of the other reviewers has mentioned that ...  positive\n",
       "1  A wonderful little production. <br /><br />The...  positive\n",
       "2  I thought this was a wonderful way to spend ti...  positive\n",
       "3  Basically there's a family where a little boy ...  negative\n",
       "4  Petter Mattei's \"Love in the Time of Money\" is...  positive"
      ]
     },
     "metadata": {},
     "output_type": "display_data"
    }
   ],
   "source": [
    "# Loading the IMDB Dataset\n",
    "ORIG_DF = pd.read_csv(DEMO_DATA_FILE, compression='gzip')\n",
    "print(f'Data shape: {ORIG_DF.shape}')\n",
    "display(ORIG_DF.head())"
   ]
  },
  {
   "cell_type": "code",
   "execution_count": 4,
   "id": "ee986bd4-0e87-4a80-9bf4-537196951056",
   "metadata": {},
   "outputs": [],
   "source": [
    "# Setting up variables for later usage in DataPackage\n",
    "DATA_COLUMN = 'review'\n",
    "TARGET_COLUMN = 'sentiment'\n",
    "UNIQUE_COLUMN = None   # Unique index column. If None, one will be created"
   ]
  },
  {
   "cell_type": "markdown",
   "id": "c9aa24a6-4f32-478c-bd1e-4818176e2894",
   "metadata": {},
   "source": [
    "# DataPackageParams\n",
    "<p>#TODO: Needs description of what DataPackageParams is</p>"
   ]
  },
  {
   "cell_type": "code",
   "execution_count": 5,
   "id": "061d00f5-0fee-4c66-a208-b9ce44340103",
   "metadata": {},
   "outputs": [],
   "source": [
    "import DataPackage\n",
    "myDP = DataPackage.DataPackage(original_data = ORIG_DF,\n",
    "                               data_column = DATA_COLUMN,\n",
    "                               target_column = TARGET_COLUMN,\n",
    "                               unique_column = UNIQUE_COLUMN)"
   ]
  },
  {
   "cell_type": "code",
   "execution_count": 6,
   "id": "c3c04abb-8426-41cd-910b-cae55c951eef",
   "metadata": {},
   "outputs": [
    {
     "name": "stdout",
     "output_type": "stream",
     "text": [
      "DataPackage summary\n",
      "Attributes:\n",
      "---> uniqueColumn: uuid\n",
      "---> dataColumn: review\n",
      "---> targetColumn: sentiment\n",
      "Data:\n",
      "---> isOrigDataLoaded: True\n",
      "---> isWorkingDataLoaded: True\n",
      "---> isCleanDataLoaded: False\n",
      "---> isTrainDataLoaded: False\n",
      "---> isTestDataLoaded: False\n",
      "\n",
      "Original Data:\n",
      "---> original data shape: (50000, 3)\n",
      "Cleaned Data:\n",
      "---> clean data shape: \"N/A\"\n",
      "Working Data:\n",
      "---> working data shape: (50000, 3)\n",
      "\n",
      "Process:\n",
      "---> isProcessed: False\n",
      "---> isCleaned: False\n",
      "---> isStopWorded: False\n",
      "---> isBalanced: False\n",
      "---> isEncoded: False\n",
      "---> isTrainTestSplit: False\n"
     ]
    }
   ],
   "source": [
    "myDP.display()"
   ]
  },
  {
   "cell_type": "code",
   "execution_count": 7,
   "id": "eb07d7b2-9147-4717-aac6-37a1e7679e8a",
   "metadata": {},
   "outputs": [
    {
     "data": {
      "image/png": "[encoded data removed]",
      "text/plain": [
       "<Figure size 576x396 with 1 Axes>"
      ]
     },
     "metadata": {},
     "output_type": "display_data"
    },
    {
     "data": {
      "image/png": "[encoded data removed]",
      "text/plain": [
       "<Figure size 576x396 with 1 Axes>"
      ]
     },
     "metadata": {},
     "output_type": "display_data"
    },
    {
     "data": {
      "text/html": [
       "<div>\n",
       "<style scoped>\n",
       "    .dataframe tbody tr th:only-of-type {\n",
       "        vertical-align: middle;\n",
       "    }\n",
       "\n",
       "    .dataframe tbody tr th {\n",
       "        vertical-align: top;\n",
       "    }\n",
       "\n",
       "    .dataframe thead th {\n",
       "        text-align: right;\n",
       "    }\n",
       "</style>\n",
       "<table border=\"1\" class=\"dataframe\">\n",
       "  <thead>\n",
       "    <tr style=\"text-align: right;\">\n",
       "      <th></th>\n",
       "      <th>sentiment</th>\n",
       "      <th>ttlCol</th>\n",
       "    </tr>\n",
       "  </thead>\n",
       "  <tbody>\n",
       "    <tr>\n",
       "      <th>0</th>\n",
       "      <td>negative</td>\n",
       "      <td>20000</td>\n",
       "    </tr>\n",
       "    <tr>\n",
       "      <th>1</th>\n",
       "      <td>positive</td>\n",
       "      <td>20000</td>\n",
       "    </tr>\n",
       "  </tbody>\n",
       "</table>\n",
       "</div>"
      ],
      "text/plain": [
       "  sentiment  ttlCol\n",
       "0  negative   20000\n",
       "1  positive   20000"
      ]
     },
     "metadata": {},
     "output_type": "display_data"
    }
   ],
   "source": [
    "myDP.classBalanceUndersample(sampleSize=20000)"
   ]
  },
  {
   "cell_type": "code",
   "execution_count": 8,
   "id": "c0226298-ceea-43e1-9c0b-a25d28e28564",
   "metadata": {},
   "outputs": [
    {
     "name": "stdout",
     "output_type": "stream",
     "text": [
      "Cleaning text column...\n"
     ]
    },
    {
     "name": "stderr",
     "output_type": "stream",
     "text": [
      "100%|███████████████████████████████████| 40000/40000 [00:14<00:00, 2784.96it/s]\n"
     ]
    }
   ],
   "source": [
    "# Clean the data\n",
    "myDP.clean_text_column()"
   ]
  },
  {
   "cell_type": "code",
   "execution_count": 9,
   "id": "75d83414-7abb-45a0-98bf-6e410c320b93",
   "metadata": {},
   "outputs": [
    {
     "name": "stderr",
     "output_type": "stream",
     "text": [
      "[nltk_data] Downloading package stopwords to /home/magni/nltk_data...\n",
      "[nltk_data]   Package stopwords is already up-to-date!\n"
     ]
    },
    {
     "name": "stdout",
     "output_type": "stream",
     "text": [
      "Removing stopwords...\n"
     ]
    },
    {
     "name": "stderr",
     "output_type": "stream",
     "text": [
      "100%|███████████████████████████████████| 40000/40000 [00:07<00:00, 5351.13it/s]\n"
     ]
    }
   ],
   "source": [
    "myDP.remove_stopwords()"
   ]
  },
  {
   "cell_type": "code",
   "execution_count": 10,
   "id": "9fa1c0d1-7a8c-40ba-af75-0935b906d2ee",
   "metadata": {},
   "outputs": [
    {
     "name": "stdout",
     "output_type": "stream",
     "text": [
      "\n",
      "Encoding to TF-IDF with max_features=100\n",
      "Encoding completed. Feature list:\n",
      "['10', 'acting', 'actors', 'actually', 'all', 'also', 'and', 'another', 'around', 'back', 'bad', 'best', 'better', 'big', 'br', 'can', 'cast', 'character', 'characters', 'could', 'director', 'end', 'even', 'ever', 'every', 'fact', 'film', 'films', 'find', 'first', 'funny', 'get', 'go', 'going', 'good', 'great', 'he', 'horror', 'however', 'in', 'it', 'know', 'life', 'like', 'little', 'look', 'lot', 'love', 'made', 'make', 'makes', 'man', 'many', 'movie', 'movies', 'much', 'never', 'new', 'nothing', 'old', 'one', 'part', 'people', 'plot', 'pretty', 'quite', 'real', 'really', 'say', 'scene', 'scenes', 'see', 'seems', 'seen', 'show', 'something', 'still', 'story', 'that', 'the', 'there', 'thing', 'things', 'think', 'this', 'though', 'time', 'two', 'us', 've', 'want', 'watch', 'watching', 'way', 'well', 'work', 'world', 'would', 'years', 'young']\n",
      "\n"
     ]
    }
   ],
   "source": [
    "myDP.process_TFIDF(max_features=100)"
   ]
  },
  {
   "cell_type": "code",
   "execution_count": 11,
   "id": "40c9dffe-eb0d-4a44-8ce8-0f3016f6dd15",
   "metadata": {},
   "outputs": [
    {
     "name": "stdout",
     "output_type": "stream",
     "text": [
      "Completed train/test split (train_size = 0.8):\n",
      "---> Original data size: 40000\n",
      "---> Training data size: 32000\n",
      "---> Testing data size: 8000\n",
      "---> Stratified on column: sentiment\n"
     ]
    }
   ],
   "source": [
    "myDP.splitTrainTest(stratifyColumn=None,\n",
    "                    train_size=0.8,\n",
    "                    random_state=765,\n",
    "                    shuffle=True)"
   ]
  },
  {
   "cell_type": "code",
   "execution_count": 12,
   "id": "8858885c-57ce-48f6-b362-5263e9d37fb2",
   "metadata": {},
   "outputs": [
    {
     "name": "stdout",
     "output_type": "stream",
     "text": [
      "DataPackage summary\n",
      "Attributes:\n",
      "---> uniqueColumn: uuid\n",
      "---> dataColumn: review\n",
      "---> targetColumn: sentiment\n",
      "Data:\n",
      "---> isOrigDataLoaded: True\n",
      "---> isWorkingDataLoaded: True\n",
      "---> isCleanDataLoaded: False\n",
      "---> isTrainDataLoaded: True\n",
      "---> isTestDataLoaded: True\n",
      "\n",
      "Original Data:\n",
      "---> original data shape: (50000, 3)\n",
      "Cleaned Data:\n",
      "---> clean data shape: \"N/A\"\n",
      "Working Data:\n",
      "---> working data shape: (40000, 102)\n",
      "\n",
      "Process:\n",
      "---> isProcessed: False\n",
      "---> isCleaned: True\n",
      "---> isStopWorded: True\n",
      "---> isBalanced: True\n",
      "---> isEncoded: True\n",
      "---> isTrainTestSplit: True\n"
     ]
    }
   ],
   "source": [
    "myDP.display()"
   ]
  },
  {
   "cell_type": "markdown",
   "id": "4323b8b3-e747-4547-a589-bd0ef874584f",
   "metadata": {},
   "source": [
    "# Scratchpad"
   ]
  },
  {
   "cell_type": "code",
   "execution_count": null,
   "id": "cf0ec0ea-a055-4779-b038-e2aa137bcb2a",
   "metadata": {},
   "outputs": [],
   "source": []
  },
  {
   "cell_type": "code",
   "execution_count": null,
   "id": "4707b335-1270-4767-94f0-ab71e10c3095",
   "metadata": {},
   "outputs": [],
   "source": []
  },
  {
   "cell_type": "code",
   "execution_count": null,
   "id": "0804575b-6bd3-475f-9f71-ab95a90d1855",
   "metadata": {},
   "outputs": [],
   "source": []
  }
 ],
 "metadata": {
  "kernelspec": {
   "display_name": "ML1010_env2",
   "language": "python",
   "name": "ml1010_env2"
  },
  "language_info": {
   "codemirror_mode": {
    "name": "ipython",
    "version": 3
   },
   "file_extension": ".py",
   "mimetype": "text/x-python",
   "name": "python",
   "nbconvert_exporter": "python",
   "pygments_lexer": "ipython3",
   "version": "3.7.13"
  }
 },
 "nbformat": 4,
 "nbformat_minor": 5
}
