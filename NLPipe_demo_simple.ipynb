{
 "cells": [
  {
   "cell_type": "markdown",
   "id": "92c8f3af-53b8-4659-9da9-94013cec1af6",
   "metadata": {},
   "source": [
    "# NLPipe - Demo (simple)\n",
    "<p>#TODO: Needs description of what this file is</p>"
   ]
  },
  {
   "cell_type": "markdown",
   "id": "868cc103-10f9-4ef0-8d4f-00d37870a651",
   "metadata": {
    "id": "1QZKvJBJ7rlc",
    "tags": []
   },
   "source": [
    "# Initialize environment"
   ]
  },
  {
   "cell_type": "code",
   "execution_count": 1,
   "id": "92ab6524-6e25-4fe4-9116-e6d6f9769cc9",
   "metadata": {
    "colab": {
     "base_uri": "https://localhost:8080/"
    },
    "executionInfo": {
     "elapsed": 19195,
     "status": "ok",
     "timestamp": 1639849489183,
     "user": {
      "displayName": "Michael Vasiliou",
      "photoUrl": "https://lh3.googleusercontent.com/a/default-user=s64",
      "userId": "07079983815732559270"
     },
     "user_tz": 300
    },
    "id": "jgMPxKZBzfFw",
    "outputId": "ae39cdc2-271b-4bdf-a71b-40f4a11dc389"
   },
   "outputs": [],
   "source": [
    "import sys\n",
    "import os\n",
    "\n",
    "PROJECT_DIR = f'{os.getcwd()}'\n",
    "DEMO_DATA_DIR = f'{PROJECT_DIR}/data'\n",
    "DEMO_DATA_FILE = f'{DEMO_DATA_DIR}/IMDB Dataset.csv.gz'\n",
    "UTILITIES_DIR = f'{PROJECT_DIR}/utilities'\n",
    "\n",
    "# Add the UTILITY_DIR to the path to import files\n",
    "sys.path.append(UTILITIES_DIR)"
   ]
  },
  {
   "cell_type": "code",
   "execution_count": 2,
   "id": "86ea03bb-e5c3-41e2-ba13-3790a44dfe03",
   "metadata": {},
   "outputs": [],
   "source": [
    "import pandas as pd\n",
    "import numpy as np"
   ]
  },
  {
   "cell_type": "markdown",
   "id": "fb789e6f-b079-4cd3-ba28-9b567d7da41f",
   "metadata": {},
   "source": [
    "# Load Data\n",
    "<p>Loading the IMDB Dataset<br>\n",
    "50,000 records on pos/neg sentiment analysis<br>\n",
    "25,000 records per class<br>"
   ]
  },
  {
   "cell_type": "code",
   "execution_count": 3,
   "id": "cddc0286-9e5f-4484-afbc-fb1b4a1d637d",
   "metadata": {},
   "outputs": [
    {
     "name": "stdout",
     "output_type": "stream",
     "text": [
      "Data shape: (50000, 2)\n"
     ]
    },
    {
     "data": {
      "text/html": [
       "<div>\n",
       "<style scoped>\n",
       "    .dataframe tbody tr th:only-of-type {\n",
       "        vertical-align: middle;\n",
       "    }\n",
       "\n",
       "    .dataframe tbody tr th {\n",
       "        vertical-align: top;\n",
       "    }\n",
       "\n",
       "    .dataframe thead th {\n",
       "        text-align: right;\n",
       "    }\n",
       "</style>\n",
       "<table border=\"1\" class=\"dataframe\">\n",
       "  <thead>\n",
       "    <tr style=\"text-align: right;\">\n",
       "      <th></th>\n",
       "      <th>review</th>\n",
       "      <th>sentiment</th>\n",
       "    </tr>\n",
       "  </thead>\n",
       "  <tbody>\n",
       "    <tr>\n",
       "      <th>0</th>\n",
       "      <td>One of the other reviewers has mentioned that ...</td>\n",
       "      <td>1</td>\n",
       "    </tr>\n",
       "    <tr>\n",
       "      <th>1</th>\n",
       "      <td>A wonderful little production. &lt;br /&gt;&lt;br /&gt;The...</td>\n",
       "      <td>1</td>\n",
       "    </tr>\n",
       "    <tr>\n",
       "      <th>2</th>\n",
       "      <td>I thought this was a wonderful way to spend ti...</td>\n",
       "      <td>1</td>\n",
       "    </tr>\n",
       "    <tr>\n",
       "      <th>3</th>\n",
       "      <td>Basically there's a family where a little boy ...</td>\n",
       "      <td>0</td>\n",
       "    </tr>\n",
       "    <tr>\n",
       "      <th>4</th>\n",
       "      <td>Petter Mattei's \"Love in the Time of Money\" is...</td>\n",
       "      <td>1</td>\n",
       "    </tr>\n",
       "  </tbody>\n",
       "</table>\n",
       "</div>"
      ],
      "text/plain": [
       "                                              review  sentiment\n",
       "0  One of the other reviewers has mentioned that ...          1\n",
       "1  A wonderful little production. <br /><br />The...          1\n",
       "2  I thought this was a wonderful way to spend ti...          1\n",
       "3  Basically there's a family where a little boy ...          0\n",
       "4  Petter Mattei's \"Love in the Time of Money\" is...          1"
      ]
     },
     "metadata": {},
     "output_type": "display_data"
    }
   ],
   "source": [
    "# Loading the IMDB Dataset\n",
    "ORIG_DF = pd.read_csv(DEMO_DATA_FILE, compression='gzip')\n",
    "\n",
    "# Changing target column from string to 0,1. Label encoding not yet included in framework\n",
    "ORIG_DF['sentiment'] = np.where(ORIG_DF['sentiment']=='positive', 1, 0)\n",
    "\n",
    "print(f'Data shape: {ORIG_DF.shape}')\n",
    "display(ORIG_DF.head())"
   ]
  },
  {
   "cell_type": "code",
   "execution_count": 4,
   "id": "a4071fc1-3dfb-4509-973b-3b0469d6eefb",
   "metadata": {},
   "outputs": [],
   "source": [
    "# Setting up variables for later usage in DataPackage\n",
    "DATA_COLUMN = 'review'\n",
    "TARGET_COLUMN = 'sentiment'\n",
    "UNIQUE_COLUMN = None   # Unique index column. If None, one will be created"
   ]
  },
  {
   "cell_type": "markdown",
   "id": "fc2e5481-d1b1-4c6f-9e93-646a02a6d114",
   "metadata": {},
   "source": [
    "# DataPackageParams\n",
    "<p>#TODO: Needs description of what DataPackageParams is</p>"
   ]
  },
  {
   "cell_type": "code",
   "execution_count": 5,
   "id": "78061dc9-d6e1-4c0d-b1cb-c8e03312795b",
   "metadata": {},
   "outputs": [],
   "source": [
    "# DataPackageParams are optional. Can do it manually or store and save the params for re-run\n",
    "from DataPackage import DataPackageParams\n",
    "myDPP = DataPackageParams(\n",
    "                    process_params=False, # True=run all data cleanup/setup on load\n",
    "                    \n",
    "                    # Class Balance\n",
    "                    sample_size = None, # Can be set to an absolute value. None means undersample to smallest\n",
    "                                        \n",
    "                    # Text Cleaning Params\n",
    "                    fix_unicode=True,  # fix various unicode errors\n",
    "                    to_ascii=True,  # transliterate to closest ASCII representation\n",
    "                    lower=True,  # lowercase text\n",
    "                    no_line_breaks=False,  # fully strip line breaks as opposed to only normalizing them\n",
    "                    no_urls=False,  # replace all URLs with a special token\n",
    "                    no_emails=False,  # replace all email addresses with a special token\n",
    "                    no_phone_numbers=False,  # replace all phone numbers with a special token\n",
    "                    no_numbers=True,  # replace all numbers with a special token\n",
    "                    no_digits=False,  # replace all digits with a special token\n",
    "                    no_currency_symbols=False,  # replace all currency symbols with a special token\n",
    "                    no_punct=False,  # remove punctuations\n",
    "                    replace_with_punct=\"\",  # instead of removing punctuations you may replace them\n",
    "                    replace_with_url=\"<URL>\",\n",
    "                    replace_with_email=\"<EMAIL>\",\n",
    "                    replace_with_phone_number=\"<PHONE>\",\n",
    "                    replace_with_number=\"\",\n",
    "                    replace_with_digit=\"0\",\n",
    "                    replace_with_currency_symbol=\"<CUR>\",\n",
    "                    lang=\"en\",  # set to 'de' for German special handling\n",
    "\n",
    "                    # Remove stopwords\n",
    "                    remove_stopwords=True, # Removes stopwords\n",
    "                    stopword_language='english',\n",
    "        \n",
    "                    # train test split params\n",
    "                    stratifyColumn=None, # If None will be autoset to target_column in DataPackage\n",
    "                    train_size=0.8, # Can be percent or absolute number\n",
    "                    random_state=765,\n",
    "                    shuffle=True,\n",
    "\n",
    "                    # Encoding params\n",
    "                    encoding_type='TFIDF', # Currently only supports TFIDF encoding, TBA: BERT, GLOVE, Word2Vec\n",
    "                    max_features=100 # Currently only used in TFIDF\n",
    "                    )"
   ]
  },
  {
   "cell_type": "markdown",
   "id": "46d28987-f3c9-4047-9df6-52ae89901c54",
   "metadata": {},
   "source": [
    "# Data Package\n",
    "<p>#TODO: Needs description of what this file is</p>"
   ]
  },
  {
   "cell_type": "code",
   "execution_count": 6,
   "id": "ac17f647-979b-427d-beb8-621cda3aac72",
   "metadata": {},
   "outputs": [],
   "source": [
    "# Create the DataPackage\n",
    "from DataPackage import DataPackage\n",
    "myDP = DataPackage(original_data = ORIG_DF,\n",
    "                   data_column = DATA_COLUMN,\n",
    "                   target_column = TARGET_COLUMN,\n",
    "                   unique_column = UNIQUE_COLUMN,\n",
    "                   data_package_params = myDPP)"
   ]
  },
  {
   "cell_type": "markdown",
   "id": "149b58f9-13bc-4d67-a0ed-82e49645c6a7",
   "metadata": {
    "tags": []
   },
   "source": [
    "# Experiment Manager"
   ]
  },
  {
   "cell_type": "code",
   "execution_count": 7,
   "id": "b930a126-0d48-4c5f-bca2-235af5f2c7a4",
   "metadata": {},
   "outputs": [],
   "source": [
    "from ExperimentManager import ExperimentManager"
   ]
  },
  {
   "cell_type": "code",
   "execution_count": 8,
   "id": "fa6f5c5c-d687-46c5-852e-b50a82efa39b",
   "metadata": {},
   "outputs": [],
   "source": [
    "# Create the classifier used for the first Experiment\n",
    "from xgboost import XGBClassifier\n",
    "untrained_model_1 = XGBClassifier(eval_metric='mlogloss', \n",
    "                            tree_method='gpu_hist',\n",
    "                            use_label_encoder=False,\n",
    "                            max_depth=5,\n",
    "                            n_estimators=100)"
   ]
  },
  {
   "cell_type": "code",
   "execution_count": 9,
   "id": "c0226298-ceea-43e1-9c0b-a25d28e28564",
   "metadata": {},
   "outputs": [
    {
     "name": "stdout",
     "output_type": "stream",
     "text": [
      "DataPackage summary\n",
      "Attributes:\n",
      "---> uniqueColumn: uuid\n",
      "---> dataColumn: review\n",
      "---> targetColumn: sentiment\n",
      "Data:\n",
      "---> isOrigDataLoaded: True\n",
      "---> isWorkingDataLoaded: True\n",
      "---> isCleanDataLoaded: False\n",
      "---> isTrainDataLoaded: False\n",
      "---> isTestDataLoaded: False\n",
      "\n",
      "Original Data:\n",
      "---> original data shape: (50000, 3)\n",
      "Cleaned Data:\n",
      "---> clean data shape: \"N/A\"\n",
      "Working Data:\n",
      "---> working data shape: (50000, 3)\n",
      "\n",
      "Process:\n",
      "---> isProcessed: False\n",
      "---> isCleaned: False\n",
      "---> isStopWorded: False\n",
      "---> isBalanced: False\n",
      "---> isEncoded: False\n",
      "---> isTrainTestSplit: False\n",
      "\n",
      "DataExperiment summary:\n",
      "---> projectName: Magritte\n",
      "---> experimentName: XGB depth:5 est:100\n",
      "---> experimentMethod: supervised\n",
      "---> isDataPackageLoaded: True\n",
      "---> isProcessed: False\n",
      "---> isModelLoaded: False\n",
      "---> isModelPredicted: False\n",
      "---> isLearningCurveCreated: False\n",
      "---> isUntrainedModelLoaded: True\n",
      "XGBClassifier(base_score=None, booster=None, colsample_bylevel=None,\n",
      "              colsample_bynode=None, colsample_bytree=None,\n",
      "              enable_categorical=False, eval_metric='mlogloss', gamma=None,\n",
      "              gpu_id=None, importance_type=None, interaction_constraints=None,\n",
      "              learning_rate=None, max_delta_step=None, max_depth=5,\n",
      "              min_child_weight=None, missing=nan, monotone_constraints=None,\n",
      "              n_estimators=100, n_jobs=None, num_parallel_tree=None,\n",
      "              predictor=None, random_state=None, reg_alpha=None,\n",
      "              reg_lambda=None, scale_pos_weight=None, subsample=None,\n",
      "              tree_method='gpu_hist', use_label_encoder=False,\n",
      "              validate_parameters=None, verbosity=None)\n",
      "\n"
     ]
    }
   ],
   "source": [
    "# Create the Experiment Manager \n",
    "myEM = ExperimentManager(project_name='Magritte',\n",
    "                         experiment_name='XGB depth:5 est:100',\n",
    "                         experiment_method='supervised',\n",
    "                         untrained_model=untrained_model_1,\n",
    "                         data_package=myDP)\n",
    "\n",
    "                         "
   ]
  },
  {
   "cell_type": "code",
   "execution_count": 10,
   "id": "f7fef4bf-645d-4ec5-897c-159b6b33b7c6",
   "metadata": {},
   "outputs": [
    {
     "name": "stdout",
     "output_type": "stream",
     "text": [
      "\n",
      "DataExperiment summary:\n",
      "---> projectName: Magritte\n",
      "---> experimentName: RF depth:10 est:10\n",
      "---> experimentMethod: supervised\n",
      "---> isDataPackageLoaded: True\n",
      "---> isProcessed: False\n",
      "---> isModelLoaded: False\n",
      "---> isModelPredicted: False\n",
      "---> isLearningCurveCreated: False\n",
      "---> isUntrainedModelLoaded: True\n",
      "RandomForestClassifier(max_depth=10, n_estimators=10, n_jobs=-1)\n",
      "\n"
     ]
    }
   ],
   "source": [
    "# Add another experiment\n",
    "from sklearn.ensemble import RandomForestClassifier\n",
    "\n",
    "untrained_model_2 = RandomForestClassifier(n_jobs=-1,\n",
    "                                     max_depth=10,\n",
    "                                     n_estimators=10)\n",
    "\n",
    "myEM.add_experiment(experiment_name='RF depth:10 est:10',\n",
    "                    experiment_method='supervised',\n",
    "                    untrained_model=untrained_model_2)"
   ]
  },
  {
   "cell_type": "code",
   "execution_count": 11,
   "id": "5be4c8f1-cdba-406b-a926-7f8be2863185",
   "metadata": {},
   "outputs": [
    {
     "name": "stdout",
     "output_type": "stream",
     "text": [
      "\n",
      "DataExperiment summary:\n",
      "---> projectName: Magritte\n",
      "---> experimentName: XGB depth:2 est:20\n",
      "---> experimentMethod: supervised\n",
      "---> isDataPackageLoaded: True\n",
      "---> isProcessed: False\n",
      "---> isModelLoaded: False\n",
      "---> isModelPredicted: False\n",
      "---> isLearningCurveCreated: False\n",
      "---> isUntrainedModelLoaded: True\n",
      "XGBClassifier(base_score=None, booster=None, colsample_bylevel=None,\n",
      "              colsample_bynode=None, colsample_bytree=None,\n",
      "              enable_categorical=False, eval_metric='mlogloss', gamma=None,\n",
      "              gpu_id=None, importance_type=None, interaction_constraints=None,\n",
      "              learning_rate=None, max_delta_step=None, max_depth=2,\n",
      "              min_child_weight=None, missing=nan, monotone_constraints=None,\n",
      "              n_estimators=20, n_jobs=None, num_parallel_tree=None,\n",
      "              predictor=None, random_state=None, reg_alpha=None,\n",
      "              reg_lambda=None, scale_pos_weight=None, subsample=None,\n",
      "              tree_method='gpu_hist', use_label_encoder=False,\n",
      "              validate_parameters=None, verbosity=None)\n",
      "\n"
     ]
    }
   ],
   "source": [
    "# Add another experiment\n",
    "untrained_model_3 = XGBClassifier(eval_metric='mlogloss', \n",
    "                           tree_method='gpu_hist',\n",
    "                           use_label_encoder=False,\n",
    "                           max_depth=2,\n",
    "                           n_estimators=20)\n",
    "\n",
    "myEM.add_experiment(experiment_name='XGB depth:2 est:20',\n",
    "                    experiment_method='supervised',\n",
    "                    untrained_model=untrained_model_3)"
   ]
  },
  {
   "cell_type": "code",
   "execution_count": 12,
   "id": "939d827f-56ff-4763-a1fe-d74d72d1004c",
   "metadata": {},
   "outputs": [
    {
     "name": "stdout",
     "output_type": "stream",
     "text": [
      "\n",
      "DataExperiment summary:\n",
      "---> projectName: Magritte\n",
      "---> experimentName: RF depth:2 est:5\n",
      "---> experimentMethod: supervised\n",
      "---> isDataPackageLoaded: True\n",
      "---> isProcessed: False\n",
      "---> isModelLoaded: False\n",
      "---> isModelPredicted: False\n",
      "---> isLearningCurveCreated: False\n",
      "---> isUntrainedModelLoaded: True\n",
      "RandomForestClassifier(max_depth=2, n_estimators=5, n_jobs=-1)\n",
      "\n"
     ]
    }
   ],
   "source": [
    "# Add another experiment\n",
    "untrained_model_4 = RandomForestClassifier(n_jobs=-1,\n",
    "                                     max_depth=2,\n",
    "                                     n_estimators=5)\n",
    "\n",
    "myEM.add_experiment(experiment_name='RF depth:2 est:5',\n",
    "                    experiment_method='supervised',\n",
    "                    untrained_model=untrained_model_4)"
   ]
  },
  {
   "cell_type": "markdown",
   "id": "a8c5decf-dd21-41ec-a448-a371558c06c0",
   "metadata": {},
   "source": [
    "# ExperimentManager - run_experiment"
   ]
  },
  {
   "cell_type": "code",
   "execution_count": 13,
   "id": "68ad76f4-f8f0-4047-92f1-75a9fcff80ce",
   "metadata": {},
   "outputs": [
    {
     "name": "stdout",
     "output_type": "stream",
     "text": [
      "idx Processed Experiment name\n",
      "  0     False XGB depth:5 est:100\n",
      "  1     False RF depth:10 est:10\n",
      "  2     False XGB depth:2 est:20\n",
      "  3     False RF depth:2 est:5\n"
     ]
    }
   ],
   "source": [
    "myEM.list_experiments()"
   ]
  },
  {
   "cell_type": "code",
   "execution_count": 14,
   "id": "49379289-f7dd-4505-924e-ee0fef562bf3",
   "metadata": {},
   "outputs": [
    {
     "name": "stdout",
     "output_type": "stream",
     "text": [
      "Data package has not been processed. Processing now.\n",
      "---------------------------------------------------------------------------\n",
      "DataPackage summary\n",
      "Attributes:\n",
      "---> uniqueColumn: uuid\n",
      "---> dataColumn: review\n",
      "---> targetColumn: sentiment\n",
      "Data:\n",
      "---> isOrigDataLoaded: True\n",
      "---> isWorkingDataLoaded: True\n",
      "---> isCleanDataLoaded: False\n",
      "---> isTrainDataLoaded: False\n",
      "---> isTestDataLoaded: False\n",
      "\n",
      "Original Data:\n",
      "---> original data shape: (50000, 3)\n",
      "Cleaned Data:\n",
      "---> clean data shape: \"N/A\"\n",
      "Working Data:\n",
      "---> working data shape: (50000, 3)\n",
      "\n",
      "Process:\n",
      "---> isProcessed: False\n",
      "---> isCleaned: False\n",
      "---> isStopWorded: False\n",
      "---> isBalanced: False\n",
      "---> isEncoded: False\n",
      "---> isTrainTestSplit: False\n",
      "Processing data package with provided parameters\n"
     ]
    },
    {
     "data": {
      "image/png": "[encoded data removed]",
      "text/plain": [
       "<Figure size 576x396 with 1 Axes>"
      ]
     },
     "metadata": {},
     "output_type": "display_data"
    },
    {
     "name": "stdout",
     "output_type": "stream",
     "text": [
      "Undersampling data to match min class: 0 of size: 25000\n"
     ]
    },
    {
     "data": {
      "image/png": "[encoded data removed]",
      "text/plain": [
       "<Figure size 576x396 with 1 Axes>"
      ]
     },
     "metadata": {},
     "output_type": "display_data"
    },
    {
     "data": {
      "text/html": [
       "<div>\n",
       "<style scoped>\n",
       "    .dataframe tbody tr th:only-of-type {\n",
       "        vertical-align: middle;\n",
       "    }\n",
       "\n",
       "    .dataframe tbody tr th {\n",
       "        vertical-align: top;\n",
       "    }\n",
       "\n",
       "    .dataframe thead th {\n",
       "        text-align: right;\n",
       "    }\n",
       "</style>\n",
       "<table border=\"1\" class=\"dataframe\">\n",
       "  <thead>\n",
       "    <tr style=\"text-align: right;\">\n",
       "      <th></th>\n",
       "      <th>sentiment</th>\n",
       "      <th>ttlCol</th>\n",
       "    </tr>\n",
       "  </thead>\n",
       "  <tbody>\n",
       "    <tr>\n",
       "      <th>0</th>\n",
       "      <td>0</td>\n",
       "      <td>25000</td>\n",
       "    </tr>\n",
       "    <tr>\n",
       "      <th>1</th>\n",
       "      <td>1</td>\n",
       "      <td>25000</td>\n",
       "    </tr>\n",
       "  </tbody>\n",
       "</table>\n",
       "</div>"
      ],
      "text/plain": [
       "   sentiment  ttlCol\n",
       "0          0   25000\n",
       "1          1   25000"
      ]
     },
     "metadata": {},
     "output_type": "display_data"
    },
    {
     "name": "stdout",
     "output_type": "stream",
     "text": [
      "Cleaning text column...\n"
     ]
    },
    {
     "name": "stderr",
     "output_type": "stream",
     "text": [
      "100%|███████████████████████████████████| 50000/50000 [00:21<00:00, 2356.84it/s]\n",
      "[nltk_data] Downloading package stopwords to /home/magni/nltk_data...\n",
      "[nltk_data]   Package stopwords is already up-to-date!\n"
     ]
    },
    {
     "name": "stdout",
     "output_type": "stream",
     "text": [
      "Removing stopwords...\n"
     ]
    },
    {
     "name": "stderr",
     "output_type": "stream",
     "text": [
      "100%|███████████████████████████████████| 50000/50000 [00:09<00:00, 5366.45it/s]\n"
     ]
    },
    {
     "name": "stdout",
     "output_type": "stream",
     "text": [
      "\n",
      "Encoding to TF-IDF with max_features=100\n",
      "Encoding completed. Feature list:\n",
      "['acting', 'actors', 'actually', 'all', 'also', 'and', 'another', 'around', 'back', 'bad', 'best', 'better', 'big', 'br', 'can', 'cast', 'character', 'characters', 'could', 'director', 'end', 'even', 'ever', 'every', 'film', 'films', 'find', 'first', 'funny', 'get', 'go', 'going', 'good', 'got', 'great', 'he', 'horror', 'however', 'in', 'it', 'know', 'life', 'like', 'little', 'look', 'lot', 'love', 'made', 'make', 'makes', 'man', 'many', 'movie', 'movies', 'much', 'never', 'new', 'nothing', 'old', 'one', 'part', 'people', 'plot', 'pretty', 'quite', 'real', 'really', 'say', 'scene', 'scenes', 'see', 'seems', 'seen', 'show', 'something', 'still', 'story', 'take', 'that', 'the', 'there', 'thing', 'things', 'think', 'this', 'though', 'time', 'two', 'us', 've', 'want', 'watch', 'watching', 'way', 'well', 'work', 'world', 'would', 'years', 'young']\n",
      "\n",
      "Completed train/test split (train_size = 0.8):\n",
      "---> Original data size: 50000\n",
      "---> Training data size: 40000\n",
      "---> Testing data size: 10000\n",
      "---> Stratified on column: sentiment\n",
      "\n",
      "Processing data package has been completed\n",
      "\n",
      "DataPackage summary\n",
      "Attributes:\n",
      "---> uniqueColumn: uuid\n",
      "---> dataColumn: review\n",
      "---> targetColumn: sentiment\n",
      "Data:\n",
      "---> isOrigDataLoaded: True\n",
      "---> isWorkingDataLoaded: True\n",
      "---> isCleanDataLoaded: True\n",
      "---> isTrainDataLoaded: True\n",
      "---> isTestDataLoaded: True\n",
      "\n",
      "Original Data:\n",
      "---> original data shape: (50000, 3)\n",
      "Cleaned Data:\n",
      "---> clean data shape: (50000, 3)\n",
      "Working Data:\n",
      "---> working data shape: (50000, 102)\n",
      "\n",
      "Process:\n",
      "---> isProcessed: True\n",
      "---> isCleaned: True\n",
      "---> isStopWorded: True\n",
      "---> isBalanced: True\n",
      "---> isEncoded: True\n",
      "---> isTrainTestSplit: True\n",
      "===========================================================================\n",
      "\n",
      "\n",
      "---------------------------------------------------------------------------\n",
      "Processing experiment: [0] XGB depth:5 est:100\n",
      "\n",
      "Training model for XGB depth:5 est:100. Completed. Wall time[h:m:s]: 00:00:00\n",
      "Predicting model for XGB depth:5 est:100. Completed. Wall time[h:m:s]: 00:00:00\n",
      "\n",
      "Model Stats:\n"
     ]
    },
    {
     "data": {
      "image/png": "[encoded data removed]",
      "text/plain": [
       "<Figure size 527.25x432 with 1 Axes>"
      ]
     },
     "metadata": {},
     "output_type": "display_data"
    },
    {
     "name": "stdout",
     "output_type": "stream",
     "text": [
      "            Experiment  Accuracy  Precision  Recall  F1 Score  Cohen kappa\n",
      "0  XGB depth:5 est:100      0.73       0.73    0.73      0.73         0.46\n",
      "\n",
      "\n",
      "Completed. Wall time[h:m:s]: 00:00:00\n",
      "===========================================================================\n",
      "\n",
      "\n",
      "---------------------------------------------------------------------------\n",
      "Processing experiment: [1] RF depth:10 est:10\n",
      "\n",
      "Training model for RF depth:10 est:10. Completed. Wall time[h:m:s]: 00:00:00\n",
      "Predicting model for RF depth:10 est:10. Completed. Wall time[h:m:s]: 00:00:00\n",
      "\n",
      "Model Stats:\n"
     ]
    },
    {
     "data": {
      "image/png": "[encoded data removed]",
      "text/plain": [
       "<Figure size 527.25x432 with 1 Axes>"
      ]
     },
     "metadata": {},
     "output_type": "display_data"
    },
    {
     "name": "stdout",
     "output_type": "stream",
     "text": [
      "           Experiment  Accuracy  Precision  Recall  F1 Score  Cohen kappa\n",
      "0  RF depth:10 est:10      0.71       0.71    0.71       0.7         0.41\n",
      "\n",
      "\n",
      "Completed. Wall time[h:m:s]: 00:00:00\n",
      "===========================================================================\n",
      "\n",
      "\n",
      "---------------------------------------------------------------------------\n",
      "Processing experiment: [2] XGB depth:2 est:20\n",
      "\n",
      "Training model for XGB depth:2 est:20. Completed. Wall time[h:m:s]: 00:00:00\n",
      "Predicting model for XGB depth:2 est:20. Completed. Wall time[h:m:s]: 00:00:00\n",
      "\n",
      "Model Stats:\n"
     ]
    },
    {
     "data": {
      "image/png": "[encoded data removed]",
      "text/plain": [
       "<Figure size 527.25x432 with 1 Axes>"
      ]
     },
     "metadata": {},
     "output_type": "display_data"
    },
    {
     "name": "stdout",
     "output_type": "stream",
     "text": [
      "           Experiment  Accuracy  Precision  Recall  F1 Score  Cohen kappa\n",
      "0  XGB depth:2 est:20      0.71       0.71    0.71      0.71         0.41\n",
      "\n",
      "\n",
      "Completed. Wall time[h:m:s]: 00:00:00\n",
      "===========================================================================\n",
      "\n",
      "\n",
      "---------------------------------------------------------------------------\n",
      "Processing experiment: [3] RF depth:2 est:5\n",
      "\n",
      "Training model for RF depth:2 est:5. Completed. Wall time[h:m:s]: 00:00:00\n",
      "Predicting model for RF depth:2 est:5. Completed. Wall time[h:m:s]: 00:00:00\n",
      "\n",
      "Model Stats:\n"
     ]
    },
    {
     "data": {
      "image/png": "[encoded data removed]",
      "text/plain": [
       "<Figure size 527.25x432 with 1 Axes>"
      ]
     },
     "metadata": {},
     "output_type": "display_data"
    },
    {
     "name": "stdout",
     "output_type": "stream",
     "text": [
      "         Experiment  Accuracy  Precision  Recall  F1 Score  Cohen kappa\n",
      "0  RF depth:2 est:5      0.64       0.67    0.64      0.62         0.27\n",
      "\n",
      "\n",
      "Completed. Wall time[h:m:s]: 00:00:00\n",
      "===========================================================================\n",
      "\n",
      "\n",
      "Processing complete. Displaying model comparison\n"
     ]
    },
    {
     "data": {
      "image/png": "[encoded data removed]",
      "text/plain": [
       "<Figure size 527.25x432 with 1 Axes>"
      ]
     },
     "metadata": {},
     "output_type": "display_data"
    },
    {
     "name": "stdout",
     "output_type": "stream",
     "text": [
      "            Experiment  Accuracy  Precision  Recall  F1 Score  Cohen kappa\n",
      "0  XGB depth:5 est:100      0.73       0.73    0.73      0.73         0.46\n",
      "1   RF depth:10 est:10      0.71       0.71    0.71      0.70         0.41\n",
      "2   XGB depth:2 est:20      0.71       0.71    0.71      0.71         0.41\n",
      "3     RF depth:2 est:5      0.64       0.67    0.64      0.62         0.27\n",
      "\n",
      "Processing experiments complete. Wall time[h:m:s]: 00:00:35\n"
     ]
    }
   ],
   "source": [
    "axis_labels = [0,1] #This won't be needed once the label encoder has been included\n",
    "myEM.run_experiment(index=None) # index=None means process all experiements, \n",
    "                                # otherwise provide index of single experiment to run"
   ]
  },
  {
   "cell_type": "markdown",
   "id": "1d25d2cb-03df-43b0-8bc2-f73e7fc36541",
   "metadata": {},
   "source": [
    "# Experiment Summary"
   ]
  },
  {
   "cell_type": "code",
   "execution_count": null,
   "id": "875c8728-2289-4a7e-9e31-36da81225d49",
   "metadata": {},
   "outputs": [],
   "source": [
    "myEM.display_experiment_summary(index=0, axisLabels=axis_labels)"
   ]
  },
  {
   "cell_type": "code",
   "execution_count": null,
   "id": "4707b335-1270-4767-94f0-ab71e10c3095",
   "metadata": {},
   "outputs": [],
   "source": [
    "#myEM.display_experiment_summary(index=1, axisLabels=axis_labels)"
   ]
  },
  {
   "cell_type": "markdown",
   "id": "d598b4de-edaa-4ed1-8f1a-973253c1993a",
   "metadata": {},
   "source": [
    "# SHAP"
   ]
  },
  {
   "cell_type": "code",
   "execution_count": null,
   "id": "88911d73-cdcf-47d4-afed-778b16b99d28",
   "metadata": {},
   "outputs": [],
   "source": [
    "myEM.show_shap_waterfall(model_index=0,\n",
    "                         value_index=0)"
   ]
  },
  {
   "cell_type": "code",
   "execution_count": null,
   "id": "a520287b-c0b8-452d-b6bb-845244176996",
   "metadata": {},
   "outputs": [],
   "source": [
    "myEM.show_shap_waterfall(model_index=2,\n",
    "                         value_index=0)"
   ]
  },
  {
   "cell_type": "code",
   "execution_count": null,
   "id": "5587b2ce-1835-445d-b9b6-bcddb1dcc277",
   "metadata": {},
   "outputs": [],
   "source": [
    "myEM.show_shap_summary(model_index=0)"
   ]
  },
  {
   "cell_type": "markdown",
   "id": "5487a87f-9b00-4a88-a0bb-50431f415a12",
   "metadata": {},
   "source": [
    "# Persistence - Experiment Manager"
   ]
  },
  {
   "cell_type": "code",
   "execution_count": null,
   "id": "8dc81bc4-2622-46ec-9a1b-c7a05b927107",
   "metadata": {},
   "outputs": [],
   "source": [
    "filename_EM = f'{PROJECT_DIR}/testExperimentManager.pk.gz'\n",
    "myEM.save(filename_EM)"
   ]
  },
  {
   "cell_type": "code",
   "execution_count": null,
   "id": "3a66cf93-a190-4106-803c-280eda1c4659",
   "metadata": {},
   "outputs": [],
   "source": [
    "recoveredEM = ExperimentManager.load(filename_EM)"
   ]
  },
  {
   "cell_type": "code",
   "execution_count": null,
   "id": "bc610e21-9faa-4927-94a0-c14789617c15",
   "metadata": {},
   "outputs": [],
   "source": [
    "recoveredEM.display()"
   ]
  },
  {
   "cell_type": "code",
   "execution_count": null,
   "id": "d3e1c5cd-9ddd-401d-b8b9-613b905788a2",
   "metadata": {},
   "outputs": [],
   "source": []
  },
  {
   "cell_type": "markdown",
   "id": "4323b8b3-e747-4547-a589-bd0ef874584f",
   "metadata": {},
   "source": [
    "# Scratchpad"
   ]
  },
  {
   "cell_type": "code",
   "execution_count": null,
   "id": "84bf2754-0047-46cd-98fc-cb5c336d44ba",
   "metadata": {},
   "outputs": [],
   "source": []
  },
  {
   "cell_type": "code",
   "execution_count": null,
   "id": "c62179f9-66d0-487f-b530-89db384efdaa",
   "metadata": {},
   "outputs": [],
   "source": []
  },
  {
   "cell_type": "code",
   "execution_count": null,
   "id": "0804575b-6bd3-475f-9f71-ab95a90d1855",
   "metadata": {},
   "outputs": [],
   "source": []
  },
  {
   "cell_type": "code",
   "execution_count": null,
   "id": "7b810b60-9547-4c8e-9bf0-d8cf1ec8ebc2",
   "metadata": {},
   "outputs": [],
   "source": [
    "\n"
   ]
  },
  {
   "cell_type": "code",
   "execution_count": null,
   "id": "9de63b5c-f424-4830-b3af-49c9dc428419",
   "metadata": {},
   "outputs": [],
   "source": []
  },
  {
   "cell_type": "code",
   "execution_count": null,
   "id": "b6c087df-d7eb-40a3-89c4-e45d6ef6d01c",
   "metadata": {},
   "outputs": [],
   "source": []
  },
  {
   "cell_type": "code",
   "execution_count": null,
   "id": "a613509f-25d3-4900-ba11-07b47f22093c",
   "metadata": {},
   "outputs": [],
   "source": []
  },
  {
   "cell_type": "code",
   "execution_count": null,
   "id": "e98c674b-e1e0-41a1-84d1-eb060ded8105",
   "metadata": {},
   "outputs": [],
   "source": []
  },
  {
   "cell_type": "code",
   "execution_count": null,
   "id": "d13a1ca5-267b-437d-8928-71b98097bde9",
   "metadata": {},
   "outputs": [],
   "source": []
  },
  {
   "cell_type": "code",
   "execution_count": null,
   "id": "a5cb08d4-fea3-4a9d-82f4-2da72df9a8bb",
   "metadata": {},
   "outputs": [],
   "source": []
  },
  {
   "cell_type": "code",
   "execution_count": null,
   "id": "a6fef4b5-bbf0-4945-bede-bce91c4dafff",
   "metadata": {},
   "outputs": [],
   "source": []
  }
 ],
 "metadata": {
  "kernelspec": {
   "display_name": "ML1010_env2",
   "language": "python",
   "name": "ml1010_env2"
  },
  "language_info": {
   "codemirror_mode": {
    "name": "ipython",
    "version": 3
   },
   "file_extension": ".py",
   "mimetype": "text/x-python",
   "name": "python",
   "nbconvert_exporter": "python",
   "pygments_lexer": "ipython3",
   "version": "3.7.13"
  }
 },
 "nbformat": 4,
 "nbformat_minor": 5
}
