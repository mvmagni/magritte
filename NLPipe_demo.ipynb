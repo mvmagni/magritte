{
 "cells": [
  {
   "cell_type": "markdown",
   "id": "203bd08b-d308-4088-98e2-2a3a1084bafb",
   "metadata": {},
   "source": [
    "# NLPipe - Demo\n",
    "<p>#TODO: Needs description of what this file is</p>"
   ]
  },
  {
   "cell_type": "markdown",
   "id": "2f1d9624-8f40-4e12-a09f-bfdf20e4f45b",
   "metadata": {
    "id": "1QZKvJBJ7rlc",
    "tags": []
   },
   "source": [
    "# Initialize environment"
   ]
  },
  {
   "cell_type": "code",
   "execution_count": null,
   "id": "9fb462b6-b6f1-4954-9c3e-d36e3562353e",
   "metadata": {
    "colab": {
     "base_uri": "https://localhost:8080/"
    },
    "executionInfo": {
     "elapsed": 19195,
     "status": "ok",
     "timestamp": 1639849489183,
     "user": {
      "displayName": "Michael Vasiliou",
      "photoUrl": "https://lh3.googleusercontent.com/a/default-user=s64",
      "userId": "07079983815732559270"
     },
     "user_tz": 300
    },
    "id": "jgMPxKZBzfFw",
    "outputId": "ae39cdc2-271b-4bdf-a71b-40f4a11dc389"
   },
   "outputs": [],
   "source": [
    "import sys\n",
    "import os\n",
    "\n",
    "PROJECT_DIR = f'{os.getcwd()}'\n",
    "DEMO_DATA_DIR = f'{os.getcwd()}/data'\n",
    "DEMO_DATA_FILE = f'{DEMO_DATA_DIR}/IMDB Dataset.csv.gz'\n",
    "UTILITIES_DIR = f'{PROJECT_DIR}/utilities'\n",
    "\n",
    "# Add the UTILITY_DIR to the path to import files\n",
    "sys.path.append(UTILITIES_DIR)"
   ]
  },
  {
   "cell_type": "code",
   "execution_count": null,
   "id": "7acebed1-da05-4a5f-953b-f7a0d2f08197",
   "metadata": {},
   "outputs": [],
   "source": [
    "import pandas as pd\n",
    "import numpy as np"
   ]
  },
  {
   "cell_type": "markdown",
   "id": "182716fd-c93a-4957-9723-d22b0be9ab28",
   "metadata": {},
   "source": [
    "# Load Data\n",
    "<p>Loading the IMDB Dataset<br>\n",
    "50,000 records on pos/neg sentiment analysis<br>\n",
    "25,000 records per class<br>"
   ]
  },
  {
   "cell_type": "code",
   "execution_count": null,
   "id": "5a1f11cc-d448-4950-88fd-b082f52d494d",
   "metadata": {},
   "outputs": [],
   "source": [
    "# Loading the IMDB Dataset\n",
    "ORIG_DF = pd.read_csv(DEMO_DATA_FILE, compression='gzip')\n",
    "\n",
    "# Changing target column from string to 0,1. Label encoding not yet included in framework\n",
    "ORIG_DF['sentiment'] = np.where(ORIG_DF['sentiment']=='positive', 1, 0)\n",
    "\n",
    "print(f'Data shape: {ORIG_DF.shape}')\n",
    "display(ORIG_DF.head())"
   ]
  },
  {
   "cell_type": "code",
   "execution_count": null,
   "id": "0e10abcd-6581-40c1-88c9-9447db7e55e9",
   "metadata": {},
   "outputs": [],
   "source": [
    "# Setting up variables for later usage in DataPackage\n",
    "DATA_COLUMN = 'review'\n",
    "TARGET_COLUMN = 'sentiment'\n",
    "UNIQUE_COLUMN = None   # Unique index column. If None, one will be created"
   ]
  },
  {
   "cell_type": "markdown",
   "id": "a98c0618-99ff-4c53-b80e-b5e0713dc1c3",
   "metadata": {},
   "source": [
    "# DataPackageParams\n",
    "<p>#TODO: Needs description of what DataPackageParams is</p>"
   ]
  },
  {
   "cell_type": "code",
   "execution_count": null,
   "id": "530013a0-b12d-4aa8-9ae2-40f727a9dbf0",
   "metadata": {},
   "outputs": [],
   "source": [
    "# DataPackageParams are optional. Can do it manually or store and save the params for re-run\n",
    "from DataPackage import DataPackageParams\n",
    "myDPP = DataPackageParams(\n",
    "                    process_params=False, # True=run all data cleanup/setup on load\n",
    "                    \n",
    "                    # Class Balance\n",
    "                    sample_size = None, # Can be set to an absolute value. None means undersample to smallest\n",
    "                                        \n",
    "                    # Text Cleaning Params\n",
    "                    fix_unicode=True,  # fix various unicode errors\n",
    "                    to_ascii=True,  # transliterate to closest ASCII representation\n",
    "                    lower=True,  # lowercase text\n",
    "                    no_line_breaks=False,  # fully strip line breaks as opposed to only normalizing them\n",
    "                    no_urls=False,  # replace all URLs with a special token\n",
    "                    no_emails=False,  # replace all email addresses with a special token\n",
    "                    no_phone_numbers=False,  # replace all phone numbers with a special token\n",
    "                    no_numbers=False,  # replace all numbers with a special token\n",
    "                    no_digits=False,  # replace all digits with a special token\n",
    "                    no_currency_symbols=False,  # replace all currency symbols with a special token\n",
    "                    no_punct=False,  # remove punctuations\n",
    "                    replace_with_punct=\"\",  # instead of removing punctuations you may replace them\n",
    "                    replace_with_url=\"<URL>\",\n",
    "                    replace_with_email=\"<EMAIL>\",\n",
    "                    replace_with_phone_number=\"<PHONE>\",\n",
    "                    replace_with_number=\"<NUMBER>\",\n",
    "                    replace_with_digit=\"0\",\n",
    "                    replace_with_currency_symbol=\"<CUR>\",\n",
    "                    lang=\"en\",  # set to 'de' for German special handling\n",
    "\n",
    "                    # Remove stopwords\n",
    "                    remove_stopwords=True, # Removes stopwords\n",
    "                    stopword_language='english',\n",
    "        \n",
    "                    # train test split params\n",
    "                    stratifyColumn=None, # If None will be autoset to target_column in DataPackage\n",
    "                    train_size=0.8, # Can be percent or absolute number\n",
    "                    random_state=765,\n",
    "                    shuffle=True,\n",
    "\n",
    "                    # Encoding params\n",
    "                    encoding_type='TFIDF', # Currently only supports TFIDF encoding, TBA: BERT, GLOVE, Word2Vec\n",
    "                    max_features=100 # Currently only used in TFIDF\n",
    "                    )"
   ]
  },
  {
   "cell_type": "markdown",
   "id": "65208e7a-c1cd-4e99-a934-7dcf58b5a2ac",
   "metadata": {},
   "source": [
    "# Data Package\n",
    "<p>#TODO: Needs description of what this file is</p>"
   ]
  },
  {
   "cell_type": "code",
   "execution_count": null,
   "id": "061d00f5-0fee-4c66-a208-b9ce44340103",
   "metadata": {},
   "outputs": [],
   "source": [
    "# Create the DataPackage\n",
    "from DataPackage import DataPackage\n",
    "myDP = DataPackage(original_data = ORIG_DF,\n",
    "                   data_column = DATA_COLUMN,\n",
    "                   target_column = TARGET_COLUMN,\n",
    "                   unique_column = UNIQUE_COLUMN,\n",
    "                   data_package_params = myDPP)"
   ]
  },
  {
   "cell_type": "code",
   "execution_count": null,
   "id": "c3c04abb-8426-41cd-910b-cae55c951eef",
   "metadata": {},
   "outputs": [],
   "source": []
  },
  {
   "cell_type": "markdown",
   "id": "149b58f9-13bc-4d67-a0ed-82e49645c6a7",
   "metadata": {
    "tags": []
   },
   "source": [
    "# Experiment Manager"
   ]
  },
  {
   "cell_type": "code",
   "execution_count": null,
   "id": "b930a126-0d48-4c5f-bca2-235af5f2c7a4",
   "metadata": {},
   "outputs": [],
   "source": [
    "from ExperimentManager import ExperimentManager"
   ]
  },
  {
   "cell_type": "code",
   "execution_count": null,
   "id": "fa6f5c5c-d687-46c5-852e-b50a82efa39b",
   "metadata": {},
   "outputs": [],
   "source": [
    "from xgboost import XGBClassifier\n",
    "classifier = XGBClassifier(eval_metric='mlogloss', \n",
    "                           tree_method='gpu_hist',\n",
    "                           use_label_encoder=False,\n",
    "                           max_depth=5,\n",
    "                           n_estimators=100)"
   ]
  },
  {
   "cell_type": "code",
   "execution_count": null,
   "id": "c0226298-ceea-43e1-9c0b-a25d28e28564",
   "metadata": {},
   "outputs": [],
   "source": [
    "myEM = ExperimentManager(project_name='NLPipe',\n",
    "                         experiment_name='XGB depth:5 est:100',\n",
    "                         classifier=classifier,\n",
    "                         data_package=myDP)\n",
    "\n",
    "                         "
   ]
  },
  {
   "cell_type": "code",
   "execution_count": null,
   "id": "9fa1c0d1-7a8c-40ba-af75-0935b906d2ee",
   "metadata": {},
   "outputs": [],
   "source": [
    "myEM.list_experiments()"
   ]
  },
  {
   "cell_type": "markdown",
   "id": "4e244ee3-cd70-4f09-8fde-e292e1d7c34b",
   "metadata": {
    "tags": []
   },
   "source": [
    "# ExperimentManager - add/list/remove"
   ]
  },
  {
   "cell_type": "code",
   "execution_count": null,
   "id": "40c9dffe-eb0d-4a44-8ce8-0f3016f6dd15",
   "metadata": {},
   "outputs": [],
   "source": [
    "from sklearn.ensemble import RandomForestClassifier\n",
    "classifier2 = RandomForestClassifier(n_jobs=-1)\n",
    "myEM.add_experiment(experiment_name='RF test exp',\n",
    "                    classifier=classifier2)"
   ]
  },
  {
   "cell_type": "code",
   "execution_count": null,
   "id": "8858885c-57ce-48f6-b362-5263e9d37fb2",
   "metadata": {},
   "outputs": [],
   "source": [
    "myEM.list_experiments()"
   ]
  },
  {
   "cell_type": "code",
   "execution_count": null,
   "id": "2defb07d-21cd-49c4-b41f-8cef0330c8be",
   "metadata": {},
   "outputs": [],
   "source": [
    "myEM.display()"
   ]
  },
  {
   "cell_type": "code",
   "execution_count": null,
   "id": "25fc9241-daf3-4197-9784-2e17c1f59e5c",
   "metadata": {},
   "outputs": [],
   "source": [
    "myEM.remove_experiment(experiment_index=1)"
   ]
  },
  {
   "cell_type": "code",
   "execution_count": null,
   "id": "3feb8c22-c700-4757-bf8a-222a48dd5945",
   "metadata": {},
   "outputs": [],
   "source": [
    "myEM.display()"
   ]
  },
  {
   "cell_type": "code",
   "execution_count": null,
   "id": "f7fef4bf-645d-4ec5-897c-159b6b33b7c6",
   "metadata": {},
   "outputs": [],
   "source": [
    "classifier2 = RandomForestClassifier(n_jobs=-1,\n",
    "                                     max_depth=10,\n",
    "                                     n_estimators=10)\n",
    "\n",
    "myEM.add_experiment(experiment_name='RF depth:10 est:10',\n",
    "                    classifier=classifier2)"
   ]
  },
  {
   "cell_type": "code",
   "execution_count": null,
   "id": "5be4c8f1-cdba-406b-a926-7f8be2863185",
   "metadata": {},
   "outputs": [],
   "source": [
    "classifier3 = XGBClassifier(eval_metric='mlogloss', \n",
    "                           tree_method='gpu_hist',\n",
    "                           use_label_encoder=False,\n",
    "                           max_depth=2,\n",
    "                           n_estimators=20)\n",
    "\n",
    "myEM.add_experiment(experiment_name='XGB depth:2 est:20',\n",
    "                    classifier=classifier3)"
   ]
  },
  {
   "cell_type": "code",
   "execution_count": null,
   "id": "939d827f-56ff-4763-a1fe-d74d72d1004c",
   "metadata": {},
   "outputs": [],
   "source": [
    "classifier4 = RandomForestClassifier(n_jobs=-1,\n",
    "                                     max_depth=2,\n",
    "                                     n_estimators=5)\n",
    "\n",
    "myEM.add_experiment(experiment_name='RF depth:2 est:5',\n",
    "                    classifier=classifier4)"
   ]
  },
  {
   "cell_type": "markdown",
   "id": "a8c5decf-dd21-41ec-a448-a371558c06c0",
   "metadata": {},
   "source": [
    "# ExperimentManager - run_experiment"
   ]
  },
  {
   "cell_type": "code",
   "execution_count": null,
   "id": "68ad76f4-f8f0-4047-92f1-75a9fcff80ce",
   "metadata": {},
   "outputs": [],
   "source": [
    "myEM.list_experiments()"
   ]
  },
  {
   "cell_type": "code",
   "execution_count": null,
   "id": "49379289-f7dd-4505-924e-ee0fef562bf3",
   "metadata": {},
   "outputs": [],
   "source": [
    "axis_labels = [0,1] #This won't be needed once the label encoder has been included\n",
    "myEM.run_experiment(axis_labels=axis_labels,\n",
    "                    n_jobs=-1,  # -1 means use all available processors, otherwise include number\n",
    "                    index=None) # index=None means process all experiements, \n",
    "                                # otherwise provide index of single experiment to run"
   ]
  },
  {
   "cell_type": "code",
   "execution_count": null,
   "id": "9769d4fc-6a5a-4452-8c69-626d1593f32c",
   "metadata": {},
   "outputs": [],
   "source": []
  },
  {
   "cell_type": "code",
   "execution_count": null,
   "id": "7c9d6988-bcde-4ed7-9c49-c4398213d7b3",
   "metadata": {},
   "outputs": [],
   "source": []
  },
  {
   "cell_type": "code",
   "execution_count": null,
   "id": "88911d73-cdcf-47d4-afed-778b16b99d28",
   "metadata": {},
   "outputs": [],
   "source": [
    "myEM.show_shap_waterfall(model_index=0,\n",
    "                         value_index=0)"
   ]
  },
  {
   "cell_type": "code",
   "execution_count": null,
   "id": "a520287b-c0b8-452d-b6bb-845244176996",
   "metadata": {},
   "outputs": [],
   "source": [
    "myEM.show_shap_waterfall(model_index=2,\n",
    "                         value_index=0)"
   ]
  },
  {
   "cell_type": "code",
   "execution_count": null,
   "id": "e3082364-f217-4359-b1cc-c9199f08c1a5",
   "metadata": {},
   "outputs": [],
   "source": []
  },
  {
   "cell_type": "code",
   "execution_count": null,
   "id": "5587b2ce-1835-445d-b9b6-bcddb1dcc277",
   "metadata": {},
   "outputs": [],
   "source": [
    "myEM.show_shap_summary(model_index=0)"
   ]
  },
  {
   "cell_type": "code",
   "execution_count": null,
   "id": "2391a8c7-826c-41f9-a76a-e648237bb400",
   "metadata": {},
   "outputs": [],
   "source": []
  },
  {
   "cell_type": "code",
   "execution_count": null,
   "id": "de8e6ba7-c41e-4209-8ab9-48624d939728",
   "metadata": {},
   "outputs": [],
   "source": []
  },
  {
   "cell_type": "markdown",
   "id": "4323b8b3-e747-4547-a589-bd0ef874584f",
   "metadata": {},
   "source": [
    "# Scratchpad"
   ]
  },
  {
   "cell_type": "code",
   "execution_count": null,
   "id": "875c8728-2289-4a7e-9e31-36da81225d49",
   "metadata": {},
   "outputs": [],
   "source": [
    "myEM.display_experiment_summary(index=0, axisLabels=axis_labels)"
   ]
  },
  {
   "cell_type": "code",
   "execution_count": null,
   "id": "cf0ec0ea-a055-4779-b038-e2aa137bcb2a",
   "metadata": {},
   "outputs": [],
   "source": []
  },
  {
   "cell_type": "code",
   "execution_count": null,
   "id": "4707b335-1270-4767-94f0-ab71e10c3095",
   "metadata": {},
   "outputs": [],
   "source": [
    "myEM.display_experiment_summary(index=1, axisLabels=axis_labels)"
   ]
  },
  {
   "cell_type": "code",
   "execution_count": null,
   "id": "84bf2754-0047-46cd-98fc-cb5c336d44ba",
   "metadata": {},
   "outputs": [],
   "source": []
  },
  {
   "cell_type": "code",
   "execution_count": null,
   "id": "c62179f9-66d0-487f-b530-89db384efdaa",
   "metadata": {},
   "outputs": [],
   "source": []
  },
  {
   "cell_type": "code",
   "execution_count": null,
   "id": "0804575b-6bd3-475f-9f71-ab95a90d1855",
   "metadata": {},
   "outputs": [],
   "source": []
  },
  {
   "cell_type": "code",
   "execution_count": null,
   "id": "7b810b60-9547-4c8e-9bf0-d8cf1ec8ebc2",
   "metadata": {},
   "outputs": [],
   "source": [
    "\n"
   ]
  },
  {
   "cell_type": "code",
   "execution_count": null,
   "id": "9de63b5c-f424-4830-b3af-49c9dc428419",
   "metadata": {},
   "outputs": [],
   "source": []
  },
  {
   "cell_type": "code",
   "execution_count": null,
   "id": "b6c087df-d7eb-40a3-89c4-e45d6ef6d01c",
   "metadata": {},
   "outputs": [],
   "source": []
  },
  {
   "cell_type": "code",
   "execution_count": null,
   "id": "a613509f-25d3-4900-ba11-07b47f22093c",
   "metadata": {},
   "outputs": [],
   "source": []
  },
  {
   "cell_type": "code",
   "execution_count": null,
   "id": "e98c674b-e1e0-41a1-84d1-eb060ded8105",
   "metadata": {},
   "outputs": [],
   "source": []
  },
  {
   "cell_type": "code",
   "execution_count": null,
   "id": "d13a1ca5-267b-437d-8928-71b98097bde9",
   "metadata": {},
   "outputs": [],
   "source": []
  },
  {
   "cell_type": "code",
   "execution_count": null,
   "id": "a5cb08d4-fea3-4a9d-82f4-2da72df9a8bb",
   "metadata": {},
   "outputs": [],
   "source": []
  },
  {
   "cell_type": "code",
   "execution_count": null,
   "id": "a6fef4b5-bbf0-4945-bede-bce91c4dafff",
   "metadata": {},
   "outputs": [],
   "source": []
  }
 ],
 "metadata": {
  "kernelspec": {
   "display_name": "ML1010_env2",
   "language": "python",
   "name": "ml1010_env2"
  },
  "language_info": {
   "codemirror_mode": {
    "name": "ipython",
    "version": 3
   },
   "file_extension": ".py",
   "mimetype": "text/x-python",
   "name": "python",
   "nbconvert_exporter": "python",
   "pygments_lexer": "ipython3",
   "version": "3.7.13"
  }
 },
 "nbformat": 4,
 "nbformat_minor": 5
}
